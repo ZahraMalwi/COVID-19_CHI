{
 "cells": [
  {
   "cell_type": "code",
   "execution_count": 1,
   "id": "88112f5a",
   "metadata": {},
   "outputs": [
    {
     "name": "stdout",
     "output_type": "stream",
     "text": [
      "Requirement already satisfied: vaex in c:\\users\\hp\\anaconda3\\lib\\site-packages (4.5.0)\n",
      "Requirement already satisfied: vaex-server<0.7,>=0.6.1 in c:\\users\\hp\\anaconda3\\lib\\site-packages (from vaex) (0.6.1)\n",
      "Requirement already satisfied: vaex-core<5,>=4.5.0 in c:\\users\\hp\\anaconda3\\lib\\site-packages (from vaex) (4.5.1)\n",
      "Requirement already satisfied: vaex-ml<0.15,>=0.14.0 in c:\\users\\hp\\anaconda3\\lib\\site-packages (from vaex) (0.14.0)\n",
      "Requirement already satisfied: vaex-jupyter<0.7,>=0.6.0 in c:\\users\\hp\\anaconda3\\lib\\site-packages (from vaex) (0.6.0)\n",
      "Requirement already satisfied: vaex-hdf5<0.11,>=0.10.0 in c:\\users\\hp\\anaconda3\\lib\\site-packages (from vaex) (0.10.0)\n",
      "Requirement already satisfied: vaex-astro<0.10,>=0.9.0 in c:\\users\\hp\\anaconda3\\lib\\site-packages (from vaex) (0.9.0)\n",
      "Requirement already satisfied: vaex-viz<0.6,>=0.5.0 in c:\\users\\hp\\anaconda3\\lib\\site-packages (from vaex) (0.5.0)\n",
      "Requirement already satisfied: astropy in c:\\users\\hp\\anaconda3\\lib\\site-packages (from vaex-astro<0.10,>=0.9.0->vaex) (4.2.1)\n",
      "Requirement already satisfied: nest-asyncio>=1.3.3 in c:\\users\\hp\\anaconda3\\lib\\site-packages (from vaex-core<5,>=4.5.0->vaex) (1.5.1)\n",
      "Requirement already satisfied: progressbar2 in c:\\users\\hp\\anaconda3\\lib\\site-packages (from vaex-core<5,>=4.5.0->vaex) (3.55.0)\n",
      "Requirement already satisfied: blake3 in c:\\users\\hp\\anaconda3\\lib\\site-packages (from vaex-core<5,>=4.5.0->vaex) (0.2.1)\n",
      "Requirement already satisfied: tabulate>=0.8.3 in c:\\users\\hp\\anaconda3\\lib\\site-packages (from vaex-core<5,>=4.5.0->vaex) (0.8.9)\n",
      "Requirement already satisfied: filelock in c:\\users\\hp\\anaconda3\\lib\\site-packages (from vaex-core<5,>=4.5.0->vaex) (3.0.12)\n",
      "Requirement already satisfied: pandas in c:\\users\\hp\\anaconda3\\lib\\site-packages (from vaex-core<5,>=4.5.0->vaex) (1.2.4)\n",
      "Requirement already satisfied: aplus in c:\\users\\hp\\anaconda3\\lib\\site-packages (from vaex-core<5,>=4.5.0->vaex) (0.11.0)\n",
      "Requirement already satisfied: pyarrow>=3.0 in c:\\users\\hp\\anaconda3\\lib\\site-packages (from vaex-core<5,>=4.5.0->vaex) (6.0.0)\n",
      "Requirement already satisfied: requests in c:\\users\\hp\\anaconda3\\lib\\site-packages (from vaex-core<5,>=4.5.0->vaex) (2.25.1)\n",
      "Requirement already satisfied: dask in c:\\users\\hp\\anaconda3\\lib\\site-packages (from vaex-core<5,>=4.5.0->vaex) (2021.4.0)\n",
      "Requirement already satisfied: cloudpickle in c:\\users\\hp\\anaconda3\\lib\\site-packages (from vaex-core<5,>=4.5.0->vaex) (1.6.0)\n",
      "Requirement already satisfied: future>=0.15.2 in c:\\users\\hp\\anaconda3\\lib\\site-packages (from vaex-core<5,>=4.5.0->vaex) (0.18.2)\n",
      "Requirement already satisfied: six in c:\\users\\hp\\anaconda3\\lib\\site-packages (from vaex-core<5,>=4.5.0->vaex) (1.15.0)\n",
      "Requirement already satisfied: numpy>=1.16 in c:\\users\\hp\\anaconda3\\lib\\site-packages (from vaex-core<5,>=4.5.0->vaex) (1.20.1)\n",
      "Requirement already satisfied: pyyaml in c:\\users\\hp\\anaconda3\\lib\\site-packages (from vaex-core<5,>=4.5.0->vaex) (5.4.1)\n",
      "Requirement already satisfied: frozendict in c:\\users\\hp\\anaconda3\\lib\\site-packages (from vaex-core<5,>=4.5.0->vaex) (2.0.7)\n",
      "Requirement already satisfied: h5py>=2.9 in c:\\users\\hp\\anaconda3\\lib\\site-packages (from vaex-hdf5<0.11,>=0.10.0->vaex) (2.10.0)\n",
      "Requirement already satisfied: ipyvuetify<2,>=1.2.2 in c:\\users\\hp\\anaconda3\\lib\\site-packages (from vaex-jupyter<0.7,>=0.6.0->vaex) (1.8.1)\n",
      "Requirement already satisfied: ipympl in c:\\users\\hp\\anaconda3\\lib\\site-packages (from vaex-jupyter<0.7,>=0.6.0->vaex) (0.8.2)\n",
      "Requirement already satisfied: bqplot>=0.10.1 in c:\\users\\hp\\anaconda3\\lib\\site-packages (from vaex-jupyter<0.7,>=0.6.0->vaex) (0.12.31)\n",
      "Requirement already satisfied: xarray in c:\\users\\hp\\anaconda3\\lib\\site-packages (from vaex-jupyter<0.7,>=0.6.0->vaex) (0.20.1)\n",
      "Requirement already satisfied: ipyvolume>=0.4 in c:\\users\\hp\\anaconda3\\lib\\site-packages (from vaex-jupyter<0.7,>=0.6.0->vaex) (0.5.2)\n",
      "Requirement already satisfied: ipyleaflet in c:\\users\\hp\\anaconda3\\lib\\site-packages (from vaex-jupyter<0.7,>=0.6.0->vaex) (0.14.0)\n",
      "Requirement already satisfied: traitlets>=4.3.0 in c:\\users\\hp\\anaconda3\\lib\\site-packages (from bqplot>=0.10.1->vaex-jupyter<0.7,>=0.6.0->vaex) (5.0.5)\n",
      "Requirement already satisfied: ipywidgets>=7.5.0 in c:\\users\\hp\\anaconda3\\lib\\site-packages (from bqplot>=0.10.1->vaex-jupyter<0.7,>=0.6.0->vaex) (7.6.3)\n",
      "Requirement already satisfied: traittypes>=0.0.6 in c:\\users\\hp\\anaconda3\\lib\\site-packages (from bqplot>=0.10.1->vaex-jupyter<0.7,>=0.6.0->vaex) (0.2.1)\n",
      "Requirement already satisfied: Pillow in c:\\users\\hp\\anaconda3\\lib\\site-packages (from ipyvolume>=0.4->vaex-jupyter<0.7,>=0.6.0->vaex) (8.2.0)\n",
      "Requirement already satisfied: ipywebrtc in c:\\users\\hp\\anaconda3\\lib\\site-packages (from ipyvolume>=0.4->vaex-jupyter<0.7,>=0.6.0->vaex) (0.6.0)\n",
      "Requirement already satisfied: pythreejs>=1.0.0 in c:\\users\\hp\\anaconda3\\lib\\site-packages (from ipyvolume>=0.4->vaex-jupyter<0.7,>=0.6.0->vaex) (2.3.0)\n",
      "Requirement already satisfied: ipyvue<2,>=1.5 in c:\\users\\hp\\anaconda3\\lib\\site-packages (from ipyvuetify<2,>=1.2.2->vaex-jupyter<0.7,>=0.6.0->vaex) (1.7.0)\n",
      "Requirement already satisfied: ipykernel>=4.5.1 in c:\\users\\hp\\anaconda3\\lib\\site-packages (from ipywidgets>=7.5.0->bqplot>=0.10.1->vaex-jupyter<0.7,>=0.6.0->vaex) (5.3.4)\n",
      "Requirement already satisfied: nbformat>=4.2.0 in c:\\users\\hp\\anaconda3\\lib\\site-packages (from ipywidgets>=7.5.0->bqplot>=0.10.1->vaex-jupyter<0.7,>=0.6.0->vaex) (5.1.3)\n",
      "Requirement already satisfied: widgetsnbextension~=3.5.0 in c:\\users\\hp\\anaconda3\\lib\\site-packages (from ipywidgets>=7.5.0->bqplot>=0.10.1->vaex-jupyter<0.7,>=0.6.0->vaex) (3.5.1)\n",
      "Requirement already satisfied: ipython>=4.0.0 in c:\\users\\hp\\anaconda3\\lib\\site-packages (from ipywidgets>=7.5.0->bqplot>=0.10.1->vaex-jupyter<0.7,>=0.6.0->vaex) (7.22.0)\n",
      "Requirement already satisfied: jupyterlab-widgets>=1.0.0 in c:\\users\\hp\\anaconda3\\lib\\site-packages (from ipywidgets>=7.5.0->bqplot>=0.10.1->vaex-jupyter<0.7,>=0.6.0->vaex) (1.0.0)\n",
      "Requirement already satisfied: tornado>=4.2 in c:\\users\\hp\\anaconda3\\lib\\site-packages (from ipykernel>=4.5.1->ipywidgets>=7.5.0->bqplot>=0.10.1->vaex-jupyter<0.7,>=0.6.0->vaex) (6.1)\n",
      "Requirement already satisfied: jupyter-client in c:\\users\\hp\\anaconda3\\lib\\site-packages (from ipykernel>=4.5.1->ipywidgets>=7.5.0->bqplot>=0.10.1->vaex-jupyter<0.7,>=0.6.0->vaex) (6.1.12)\n",
      "Requirement already satisfied: jedi>=0.16 in c:\\users\\hp\\anaconda3\\lib\\site-packages (from ipython>=4.0.0->ipywidgets>=7.5.0->bqplot>=0.10.1->vaex-jupyter<0.7,>=0.6.0->vaex) (0.17.2)\n",
      "Requirement already satisfied: pygments in c:\\users\\hp\\anaconda3\\lib\\site-packages (from ipython>=4.0.0->ipywidgets>=7.5.0->bqplot>=0.10.1->vaex-jupyter<0.7,>=0.6.0->vaex) (2.8.1)\n",
      "Requirement already satisfied: setuptools>=18.5 in c:\\users\\hp\\anaconda3\\lib\\site-packages (from ipython>=4.0.0->ipywidgets>=7.5.0->bqplot>=0.10.1->vaex-jupyter<0.7,>=0.6.0->vaex) (52.0.0.post20210125)\n",
      "Requirement already satisfied: colorama in c:\\users\\hp\\anaconda3\\lib\\site-packages (from ipython>=4.0.0->ipywidgets>=7.5.0->bqplot>=0.10.1->vaex-jupyter<0.7,>=0.6.0->vaex) (0.4.4)\n",
      "Requirement already satisfied: pickleshare in c:\\users\\hp\\anaconda3\\lib\\site-packages (from ipython>=4.0.0->ipywidgets>=7.5.0->bqplot>=0.10.1->vaex-jupyter<0.7,>=0.6.0->vaex) (0.7.5)\n",
      "Requirement already satisfied: backcall in c:\\users\\hp\\anaconda3\\lib\\site-packages (from ipython>=4.0.0->ipywidgets>=7.5.0->bqplot>=0.10.1->vaex-jupyter<0.7,>=0.6.0->vaex) (0.2.0)\n",
      "Requirement already satisfied: prompt-toolkit!=3.0.0,!=3.0.1,<3.1.0,>=2.0.0 in c:\\users\\hp\\anaconda3\\lib\\site-packages (from ipython>=4.0.0->ipywidgets>=7.5.0->bqplot>=0.10.1->vaex-jupyter<0.7,>=0.6.0->vaex) (3.0.17)\n",
      "Requirement already satisfied: decorator in c:\\users\\hp\\anaconda3\\lib\\site-packages (from ipython>=4.0.0->ipywidgets>=7.5.0->bqplot>=0.10.1->vaex-jupyter<0.7,>=0.6.0->vaex) (5.0.6)\n",
      "Requirement already satisfied: parso<0.8.0,>=0.7.0 in c:\\users\\hp\\anaconda3\\lib\\site-packages (from jedi>=0.16->ipython>=4.0.0->ipywidgets>=7.5.0->bqplot>=0.10.1->vaex-jupyter<0.7,>=0.6.0->vaex) (0.7.0)\n",
      "Requirement already satisfied: jsonschema!=2.5.0,>=2.4 in c:\\users\\hp\\anaconda3\\lib\\site-packages (from nbformat>=4.2.0->ipywidgets>=7.5.0->bqplot>=0.10.1->vaex-jupyter<0.7,>=0.6.0->vaex) (3.2.0)\n",
      "Requirement already satisfied: ipython-genutils in c:\\users\\hp\\anaconda3\\lib\\site-packages (from nbformat>=4.2.0->ipywidgets>=7.5.0->bqplot>=0.10.1->vaex-jupyter<0.7,>=0.6.0->vaex) (0.2.0)\n",
      "Requirement already satisfied: jupyter-core in c:\\users\\hp\\anaconda3\\lib\\site-packages (from nbformat>=4.2.0->ipywidgets>=7.5.0->bqplot>=0.10.1->vaex-jupyter<0.7,>=0.6.0->vaex) (4.7.1)\n",
      "Requirement already satisfied: pyrsistent>=0.14.0 in c:\\users\\hp\\anaconda3\\lib\\site-packages (from jsonschema!=2.5.0,>=2.4->nbformat>=4.2.0->ipywidgets>=7.5.0->bqplot>=0.10.1->vaex-jupyter<0.7,>=0.6.0->vaex) (0.17.3)\n",
      "Requirement already satisfied: attrs>=17.4.0 in c:\\users\\hp\\anaconda3\\lib\\site-packages (from jsonschema!=2.5.0,>=2.4->nbformat>=4.2.0->ipywidgets>=7.5.0->bqplot>=0.10.1->vaex-jupyter<0.7,>=0.6.0->vaex) (20.3.0)\n",
      "Requirement already satisfied: pytz>=2017.3 in c:\\users\\hp\\anaconda3\\lib\\site-packages (from pandas->vaex-core<5,>=4.5.0->vaex) (2021.1)\n",
      "Requirement already satisfied: python-dateutil>=2.7.3 in c:\\users\\hp\\anaconda3\\lib\\site-packages (from pandas->vaex-core<5,>=4.5.0->vaex) (2.8.1)\n",
      "Requirement already satisfied: wcwidth in c:\\users\\hp\\anaconda3\\lib\\site-packages (from prompt-toolkit!=3.0.0,!=3.0.1,<3.1.0,>=2.0.0->ipython>=4.0.0->ipywidgets>=7.5.0->bqplot>=0.10.1->vaex-jupyter<0.7,>=0.6.0->vaex) (0.2.5)\n",
      "Requirement already satisfied: ipydatawidgets>=1.1.1 in c:\\users\\hp\\anaconda3\\lib\\site-packages (from pythreejs>=1.0.0->ipyvolume>=0.4->vaex-jupyter<0.7,>=0.6.0->vaex) (4.2.0)\n",
      "Requirement already satisfied: jinja2 in c:\\users\\hp\\anaconda3\\lib\\site-packages (from vaex-ml<0.15,>=0.14.0->vaex) (2.11.3)\n",
      "Requirement already satisfied: numba in c:\\users\\hp\\anaconda3\\lib\\site-packages (from vaex-ml<0.15,>=0.14.0->vaex) (0.53.1)\n",
      "Requirement already satisfied: uvicorn[standard] in c:\\users\\hp\\anaconda3\\lib\\site-packages (from vaex-server<0.7,>=0.6.1->vaex) (0.15.0)\n",
      "Requirement already satisfied: fastapi in c:\\users\\hp\\anaconda3\\lib\\site-packages (from vaex-server<0.7,>=0.6.1->vaex) (0.70.0)\n",
      "Requirement already satisfied: cachetools in c:\\users\\hp\\anaconda3\\lib\\site-packages (from vaex-server<0.7,>=0.6.1->vaex) (4.2.4)\n",
      "Requirement already satisfied: matplotlib>=1.3.1 in c:\\users\\hp\\anaconda3\\lib\\site-packages (from vaex-viz<0.6,>=0.5.0->vaex) (3.3.4)\n",
      "Requirement already satisfied: cycler>=0.10 in c:\\users\\hp\\anaconda3\\lib\\site-packages (from matplotlib>=1.3.1->vaex-viz<0.6,>=0.5.0->vaex) (0.10.0)\n",
      "Requirement already satisfied: kiwisolver>=1.0.1 in c:\\users\\hp\\anaconda3\\lib\\site-packages (from matplotlib>=1.3.1->vaex-viz<0.6,>=0.5.0->vaex) (1.3.1)\n",
      "Requirement already satisfied: pyparsing!=2.0.4,!=2.1.2,!=2.1.6,>=2.0.3 in c:\\users\\hp\\anaconda3\\lib\\site-packages (from matplotlib>=1.3.1->vaex-viz<0.6,>=0.5.0->vaex) (2.4.7)\n",
      "Requirement already satisfied: notebook>=4.4.1 in c:\\users\\hp\\anaconda3\\lib\\site-packages (from widgetsnbextension~=3.5.0->ipywidgets>=7.5.0->bqplot>=0.10.1->vaex-jupyter<0.7,>=0.6.0->vaex) (6.3.0)\n",
      "Requirement already satisfied: terminado>=0.8.3 in c:\\users\\hp\\anaconda3\\lib\\site-packages (from notebook>=4.4.1->widgetsnbextension~=3.5.0->ipywidgets>=7.5.0->bqplot>=0.10.1->vaex-jupyter<0.7,>=0.6.0->vaex) (0.9.4)\n",
      "Requirement already satisfied: pyzmq>=17 in c:\\users\\hp\\anaconda3\\lib\\site-packages (from notebook>=4.4.1->widgetsnbextension~=3.5.0->ipywidgets>=7.5.0->bqplot>=0.10.1->vaex-jupyter<0.7,>=0.6.0->vaex) (20.0.0)\n",
      "Requirement already satisfied: Send2Trash>=1.5.0 in c:\\users\\hp\\anaconda3\\lib\\site-packages (from notebook>=4.4.1->widgetsnbextension~=3.5.0->ipywidgets>=7.5.0->bqplot>=0.10.1->vaex-jupyter<0.7,>=0.6.0->vaex) (1.5.0)\n",
      "Requirement already satisfied: argon2-cffi in c:\\users\\hp\\anaconda3\\lib\\site-packages (from notebook>=4.4.1->widgetsnbextension~=3.5.0->ipywidgets>=7.5.0->bqplot>=0.10.1->vaex-jupyter<0.7,>=0.6.0->vaex) (20.1.0)\n",
      "Requirement already satisfied: nbconvert in c:\\users\\hp\\anaconda3\\lib\\site-packages (from notebook>=4.4.1->widgetsnbextension~=3.5.0->ipywidgets>=7.5.0->bqplot>=0.10.1->vaex-jupyter<0.7,>=0.6.0->vaex) (6.0.7)\n",
      "Requirement already satisfied: prometheus-client in c:\\users\\hp\\anaconda3\\lib\\site-packages (from notebook>=4.4.1->widgetsnbextension~=3.5.0->ipywidgets>=7.5.0->bqplot>=0.10.1->vaex-jupyter<0.7,>=0.6.0->vaex) (0.10.1)\n",
      "Requirement already satisfied: pywin32>=1.0 in c:\\users\\hp\\anaconda3\\lib\\site-packages (from jupyter-core->nbformat>=4.2.0->ipywidgets>=7.5.0->bqplot>=0.10.1->vaex-jupyter<0.7,>=0.6.0->vaex) (227)\n",
      "Requirement already satisfied: pywinpty>=0.5 in c:\\users\\hp\\anaconda3\\lib\\site-packages (from terminado>=0.8.3->notebook>=4.4.1->widgetsnbextension~=3.5.0->ipywidgets>=7.5.0->bqplot>=0.10.1->vaex-jupyter<0.7,>=0.6.0->vaex) (0.5.7)\n",
      "Requirement already satisfied: cffi>=1.0.0 in c:\\users\\hp\\anaconda3\\lib\\site-packages (from argon2-cffi->notebook>=4.4.1->widgetsnbextension~=3.5.0->ipywidgets>=7.5.0->bqplot>=0.10.1->vaex-jupyter<0.7,>=0.6.0->vaex) (1.14.5)\n",
      "Requirement already satisfied: pycparser in c:\\users\\hp\\anaconda3\\lib\\site-packages (from cffi>=1.0.0->argon2-cffi->notebook>=4.4.1->widgetsnbextension~=3.5.0->ipywidgets>=7.5.0->bqplot>=0.10.1->vaex-jupyter<0.7,>=0.6.0->vaex) (2.20)\n",
      "Requirement already satisfied: pyerfa in c:\\users\\hp\\anaconda3\\lib\\site-packages (from astropy->vaex-astro<0.10,>=0.9.0->vaex) (1.7.3)\n",
      "Requirement already satisfied: fsspec>=0.6.0 in c:\\users\\hp\\anaconda3\\lib\\site-packages (from dask->vaex-core<5,>=4.5.0->vaex) (0.9.0)\n",
      "Requirement already satisfied: partd>=0.3.10 in c:\\users\\hp\\anaconda3\\lib\\site-packages (from dask->vaex-core<5,>=4.5.0->vaex) (1.2.0)\n",
      "Requirement already satisfied: toolz>=0.8.2 in c:\\users\\hp\\anaconda3\\lib\\site-packages (from dask->vaex-core<5,>=4.5.0->vaex) (0.11.1)\n",
      "Requirement already satisfied: locket in c:\\users\\hp\\anaconda3\\lib\\site-packages\\locket-0.2.1-py3.8.egg (from partd>=0.3.10->dask->vaex-core<5,>=4.5.0->vaex) (0.2.1)\n",
      "Requirement already satisfied: starlette==0.16.0 in c:\\users\\hp\\anaconda3\\lib\\site-packages (from fastapi->vaex-server<0.7,>=0.6.1->vaex) (0.16.0)\n",
      "Requirement already satisfied: pydantic!=1.7,!=1.7.1,!=1.7.2,!=1.7.3,!=1.8,!=1.8.1,<2.0.0,>=1.6.2 in c:\\users\\hp\\anaconda3\\lib\\site-packages (from fastapi->vaex-server<0.7,>=0.6.1->vaex) (1.8.2)\n",
      "Requirement already satisfied: anyio<4,>=3.0.0 in c:\\users\\hp\\anaconda3\\lib\\site-packages (from starlette==0.16.0->fastapi->vaex-server<0.7,>=0.6.1->vaex) (3.3.4)\n",
      "Requirement already satisfied: sniffio>=1.1 in c:\\users\\hp\\anaconda3\\lib\\site-packages (from anyio<4,>=3.0.0->starlette==0.16.0->fastapi->vaex-server<0.7,>=0.6.1->vaex) (1.2.0)\n",
      "Requirement already satisfied: idna>=2.8 in c:\\users\\hp\\anaconda3\\lib\\site-packages (from anyio<4,>=3.0.0->starlette==0.16.0->fastapi->vaex-server<0.7,>=0.6.1->vaex) (2.10)\n",
      "Requirement already satisfied: typing-extensions>=3.7.4.3 in c:\\users\\hp\\anaconda3\\lib\\site-packages (from pydantic!=1.7,!=1.7.1,!=1.7.2,!=1.7.3,!=1.8,!=1.8.1,<2.0.0,>=1.6.2->fastapi->vaex-server<0.7,>=0.6.1->vaex) (3.7.4.3)\n",
      "Requirement already satisfied: MarkupSafe>=0.23 in c:\\users\\hp\\anaconda3\\lib\\site-packages (from jinja2->vaex-ml<0.15,>=0.14.0->vaex) (1.1.1)\n",
      "Requirement already satisfied: entrypoints>=0.2.2 in c:\\users\\hp\\anaconda3\\lib\\site-packages (from nbconvert->notebook>=4.4.1->widgetsnbextension~=3.5.0->ipywidgets>=7.5.0->bqplot>=0.10.1->vaex-jupyter<0.7,>=0.6.0->vaex) (0.3)\n",
      "Requirement already satisfied: testpath in c:\\users\\hp\\anaconda3\\lib\\site-packages (from nbconvert->notebook>=4.4.1->widgetsnbextension~=3.5.0->ipywidgets>=7.5.0->bqplot>=0.10.1->vaex-jupyter<0.7,>=0.6.0->vaex) (0.4.4)\n",
      "Requirement already satisfied: jupyterlab-pygments in c:\\users\\hp\\anaconda3\\lib\\site-packages (from nbconvert->notebook>=4.4.1->widgetsnbextension~=3.5.0->ipywidgets>=7.5.0->bqplot>=0.10.1->vaex-jupyter<0.7,>=0.6.0->vaex) (0.1.2)\n",
      "Requirement already satisfied: defusedxml in c:\\users\\hp\\anaconda3\\lib\\site-packages (from nbconvert->notebook>=4.4.1->widgetsnbextension~=3.5.0->ipywidgets>=7.5.0->bqplot>=0.10.1->vaex-jupyter<0.7,>=0.6.0->vaex) (0.7.1)\n",
      "Requirement already satisfied: nbclient<0.6.0,>=0.5.0 in c:\\users\\hp\\anaconda3\\lib\\site-packages (from nbconvert->notebook>=4.4.1->widgetsnbextension~=3.5.0->ipywidgets>=7.5.0->bqplot>=0.10.1->vaex-jupyter<0.7,>=0.6.0->vaex) (0.5.3)\n",
      "Requirement already satisfied: mistune<2,>=0.8.1 in c:\\users\\hp\\anaconda3\\lib\\site-packages (from nbconvert->notebook>=4.4.1->widgetsnbextension~=3.5.0->ipywidgets>=7.5.0->bqplot>=0.10.1->vaex-jupyter<0.7,>=0.6.0->vaex) (0.8.4)\n",
      "Requirement already satisfied: bleach in c:\\users\\hp\\anaconda3\\lib\\site-packages (from nbconvert->notebook>=4.4.1->widgetsnbextension~=3.5.0->ipywidgets>=7.5.0->bqplot>=0.10.1->vaex-jupyter<0.7,>=0.6.0->vaex) (3.3.0)\n",
      "Requirement already satisfied: pandocfilters>=1.4.1 in c:\\users\\hp\\anaconda3\\lib\\site-packages (from nbconvert->notebook>=4.4.1->widgetsnbextension~=3.5.0->ipywidgets>=7.5.0->bqplot>=0.10.1->vaex-jupyter<0.7,>=0.6.0->vaex) (1.4.3)\n",
      "Requirement already satisfied: async-generator in c:\\users\\hp\\anaconda3\\lib\\site-packages (from nbclient<0.6.0,>=0.5.0->nbconvert->notebook>=4.4.1->widgetsnbextension~=3.5.0->ipywidgets>=7.5.0->bqplot>=0.10.1->vaex-jupyter<0.7,>=0.6.0->vaex) (1.10)\n",
      "Requirement already satisfied: packaging in c:\\users\\hp\\anaconda3\\lib\\site-packages (from bleach->nbconvert->notebook>=4.4.1->widgetsnbextension~=3.5.0->ipywidgets>=7.5.0->bqplot>=0.10.1->vaex-jupyter<0.7,>=0.6.0->vaex) (20.9)\n",
      "Requirement already satisfied: webencodings in c:\\users\\hp\\anaconda3\\lib\\site-packages (from bleach->nbconvert->notebook>=4.4.1->widgetsnbextension~=3.5.0->ipywidgets>=7.5.0->bqplot>=0.10.1->vaex-jupyter<0.7,>=0.6.0->vaex) (0.5.1)\n",
      "Requirement already satisfied: llvmlite<0.37,>=0.36.0rc1 in c:\\users\\hp\\anaconda3\\lib\\site-packages (from numba->vaex-ml<0.15,>=0.14.0->vaex) (0.36.0)\n",
      "Requirement already satisfied: python-utils>=2.3.0 in c:\\users\\hp\\anaconda3\\lib\\site-packages (from progressbar2->vaex-core<5,>=4.5.0->vaex) (2.5.6)\n",
      "Requirement already satisfied: urllib3<1.27,>=1.21.1 in c:\\users\\hp\\anaconda3\\lib\\site-packages (from requests->vaex-core<5,>=4.5.0->vaex) (1.26.4)\n",
      "Requirement already satisfied: certifi>=2017.4.17 in c:\\users\\hp\\anaconda3\\lib\\site-packages (from requests->vaex-core<5,>=4.5.0->vaex) (2020.12.5)\n",
      "Requirement already satisfied: chardet<5,>=3.0.2 in c:\\users\\hp\\anaconda3\\lib\\site-packages (from requests->vaex-core<5,>=4.5.0->vaex) (4.0.0)\n",
      "Requirement already satisfied: asgiref>=3.4.0 in c:\\users\\hp\\anaconda3\\lib\\site-packages (from uvicorn[standard]->vaex-server<0.7,>=0.6.1->vaex) (3.4.1)\n",
      "Requirement already satisfied: click>=7.0 in c:\\users\\hp\\anaconda3\\lib\\site-packages (from uvicorn[standard]->vaex-server<0.7,>=0.6.1->vaex) (7.1.2)\n",
      "Requirement already satisfied: h11>=0.8 in c:\\users\\hp\\anaconda3\\lib\\site-packages (from uvicorn[standard]->vaex-server<0.7,>=0.6.1->vaex) (0.12.0)\n",
      "Requirement already satisfied: watchgod>=0.6 in c:\\users\\hp\\anaconda3\\lib\\site-packages (from uvicorn[standard]->vaex-server<0.7,>=0.6.1->vaex) (0.7)\n",
      "Requirement already satisfied: websockets>=9.1 in c:\\users\\hp\\anaconda3\\lib\\site-packages (from uvicorn[standard]->vaex-server<0.7,>=0.6.1->vaex) (10.0)\n",
      "Requirement already satisfied: python-dotenv>=0.13 in c:\\users\\hp\\anaconda3\\lib\\site-packages (from uvicorn[standard]->vaex-server<0.7,>=0.6.1->vaex) (0.19.1)\n",
      "Requirement already satisfied: httptools==0.2.* in c:\\users\\hp\\anaconda3\\lib\\site-packages (from uvicorn[standard]->vaex-server<0.7,>=0.6.1->vaex) (0.2.0)\n",
      "Note: you may need to restart the kernel to use updated packages.\n"
     ]
    }
   ],
   "source": [
    "pip install vaex"
   ]
  },
  {
   "cell_type": "code",
   "execution_count": 29,
   "id": "ec9c3997",
   "metadata": {},
   "outputs": [],
   "source": [
    "import vaex\n",
    "import pandas as pd\n",
    "import matplotlib.pyplot as plt \n",
    "import seaborn as sns\n",
    "from datetime import datetime\n",
    "import numpy as np\n"
   ]
  },
  {
   "cell_type": "code",
   "execution_count": 30,
   "id": "ad3aaec4",
   "metadata": {},
   "outputs": [],
   "source": [
    "file_path = 'C:/COVID-19_Case_Surveillance_Public_Use_Data_with_Geography.csv'\n"
   ]
  },
  {
   "cell_type": "code",
   "execution_count": 31,
   "id": "09020817",
   "metadata": {},
   "outputs": [],
   "source": [
    "vaex_df = vaex.from_csv(file_path, \n",
    "                        convert=True, \n",
    "                        chunk_size=22_00_000)"
   ]
  },
  {
   "cell_type": "code",
   "execution_count": 32,
   "id": "3e1042e4",
   "metadata": {},
   "outputs": [
    {
     "data": {
      "text/plain": [
       "vaex.dataframe.DataFrameLocal"
      ]
     },
     "execution_count": 32,
     "metadata": {},
     "output_type": "execute_result"
    }
   ],
   "source": [
    "type(vaex_df)"
   ]
  },
  {
   "cell_type": "code",
   "execution_count": 33,
   "id": "c6612ef2",
   "metadata": {},
   "outputs": [
    {
     "data": {
      "text/html": [
       "<table>\n",
       "<thead>\n",
       "<tr><th>#                            </th><th>case_month  </th><th>res_state  </th><th style=\"text-align: right;\">  state_fips_code</th><th>res_county  </th><th style=\"text-align: right;\">  county_fips_code</th><th>age_group     </th><th>sex    </th><th>race   </th><th>ethnicity  </th><th style=\"text-align: right;\">  case_positive_specimen_interval</th><th style=\"text-align: right;\">  case_onset_interval</th><th>process  </th><th>exposure_yn  </th><th>current_status           </th><th>symptom_status  </th><th>hosp_yn  </th><th>icu_yn  </th><th>death_yn  </th><th>underlying_conditions_yn  </th></tr>\n",
       "</thead>\n",
       "<tbody>\n",
       "<tr><td><i style='opacity: 0.6'>0</i></td><td>2021-07     </td><td>VT         </td><td style=\"text-align: right;\">               50</td><td>WASHINGTON  </td><td style=\"text-align: right;\">             48477</td><td>--            </td><td>--     </td><td>--     </td><td>--         </td><td style=\"text-align: right;\">                                0</td><td style=\"text-align: right;\">                  nan</td><td>Missing  </td><td>Yes          </td><td>Laboratory-confirmed case</td><td>Asymptomatic    </td><td>No       </td><td>Missing </td><td>No        </td><td>--                        </td></tr>\n",
       "<tr><td><i style='opacity: 0.6'>1</i></td><td>2020-12     </td><td>MN         </td><td style=\"text-align: right;\">               27</td><td>BROWN       </td><td style=\"text-align: right;\">             27015</td><td>0 - 17 years  </td><td>--     </td><td>--     </td><td>--         </td><td style=\"text-align: right;\">                                0</td><td style=\"text-align: right;\">                    0</td><td>Missing  </td><td>Yes          </td><td>Laboratory-confirmed case</td><td>Symptomatic     </td><td>Missing  </td><td>Missing </td><td>No        </td><td>--                        </td></tr>\n",
       "<tr><td><i style='opacity: 0.6'>2</i></td><td>2021-03     </td><td>MI         </td><td style=\"text-align: right;\">               26</td><td>GLADWIN     </td><td style=\"text-align: right;\">             26051</td><td>0 - 17 years  </td><td>--     </td><td>--     </td><td>--         </td><td style=\"text-align: right;\">                              nan</td><td style=\"text-align: right;\">                    0</td><td>Missing  </td><td>Missing      </td><td>Laboratory-confirmed case</td><td>Symptomatic     </td><td>No       </td><td>Missing </td><td>--        </td><td>--                        </td></tr>\n",
       "<tr><td><i style='opacity: 0.6'>3</i></td><td>2021-08     </td><td>OH         </td><td style=\"text-align: right;\">               39</td><td>MERCER      </td><td style=\"text-align: right;\">             39107</td><td>0 - 17 years  </td><td>--     </td><td>--     </td><td>--         </td><td style=\"text-align: right;\">                                0</td><td style=\"text-align: right;\">                  nan</td><td>Missing  </td><td>Missing      </td><td>Laboratory-confirmed case</td><td>Missing         </td><td>Missing  </td><td>Missing </td><td>--        </td><td>--                        </td></tr>\n",
       "<tr><td><i style='opacity: 0.6'>4</i></td><td>2020-07     </td><td>KY         </td><td style=\"text-align: right;\">               21</td><td>PERRY       </td><td style=\"text-align: right;\">             21193</td><td>0 - 17 years  </td><td>--     </td><td>--     </td><td>--         </td><td style=\"text-align: right;\">                              nan</td><td style=\"text-align: right;\">                    0</td><td>Missing  </td><td>Missing      </td><td>Laboratory-confirmed case</td><td>Symptomatic     </td><td>No       </td><td>Missing </td><td>No        </td><td>--                        </td></tr>\n",
       "<tr><td><i style='opacity: 0.6'>5</i></td><td>2020-10     </td><td>CA         </td><td style=\"text-align: right;\">                6</td><td>CALAVERAS   </td><td style=\"text-align: right;\">              6009</td><td>18 to 49 years</td><td>--     </td><td>--     </td><td>--         </td><td style=\"text-align: right;\">                              nan</td><td style=\"text-align: right;\">                    0</td><td>Missing  </td><td>Missing      </td><td>Laboratory-confirmed case</td><td>Symptomatic     </td><td>No       </td><td>Missing </td><td>No        </td><td>--                        </td></tr>\n",
       "<tr><td><i style='opacity: 0.6'>6</i></td><td>2020-06     </td><td>CA         </td><td style=\"text-align: right;\">                6</td><td>SISKIYOU    </td><td style=\"text-align: right;\">              6093</td><td>18 to 49 years</td><td>--     </td><td>--     </td><td>--         </td><td style=\"text-align: right;\">                              nan</td><td style=\"text-align: right;\">                    0</td><td>Missing  </td><td>Missing      </td><td>Laboratory-confirmed case</td><td>Symptomatic     </td><td>Missing  </td><td>Missing </td><td>No        </td><td>--                        </td></tr>\n",
       "<tr><td><i style='opacity: 0.6'>7</i></td><td>2021-04     </td><td>OR         </td><td style=\"text-align: right;\">               41</td><td>CURRY       </td><td style=\"text-align: right;\">             41015</td><td>50 to 64 years</td><td>--     </td><td>--     </td><td>--         </td><td style=\"text-align: right;\">                              nan</td><td style=\"text-align: right;\">                    0</td><td>Missing  </td><td>Missing      </td><td>Laboratory-confirmed case</td><td>Symptomatic     </td><td>No       </td><td>Missing </td><td>No        </td><td>--                        </td></tr>\n",
       "<tr><td><i style='opacity: 0.6'>8</i></td><td>2021-08     </td><td>IL         </td><td style=\"text-align: right;\">               17</td><td>WILLIAMSON  </td><td style=\"text-align: right;\">             17199</td><td>50 to 64 years</td><td>Missing</td><td>Missing</td><td>Missing    </td><td style=\"text-align: right;\">                              nan</td><td style=\"text-align: right;\">                    0</td><td>Missing  </td><td>Missing      </td><td>Laboratory-confirmed case</td><td>Missing         </td><td>Missing  </td><td>Missing </td><td>Missing   </td><td>--                        </td></tr>\n",
       "<tr><td><i style='opacity: 0.6'>9</i></td><td>2021-01     </td><td>FL         </td><td style=\"text-align: right;\">               12</td><td>CITRUS      </td><td style=\"text-align: right;\">             12017</td><td>0 - 17 years  </td><td>Female </td><td>--     </td><td>--         </td><td style=\"text-align: right;\">                              nan</td><td style=\"text-align: right;\">                    0</td><td>Missing  </td><td>Missing      </td><td>Laboratory-confirmed case</td><td>Symptomatic     </td><td>No       </td><td>Missing </td><td>--        </td><td>--                        </td></tr>\n",
       "</tbody>\n",
       "</table>"
      ],
      "text/plain": [
       "  #  case_month    res_state      state_fips_code  res_county      county_fips_code  age_group       sex      race     ethnicity      case_positive_specimen_interval    case_onset_interval  process    exposure_yn    current_status             symptom_status    hosp_yn    icu_yn    death_yn    underlying_conditions_yn\n",
       "  0  2021-07       VT                          50  WASHINGTON                 48477  --              --       --       --                                           0                    nan  Missing    Yes            Laboratory-confirmed case  Asymptomatic      No         Missing   No          --\n",
       "  1  2020-12       MN                          27  BROWN                      27015  0 - 17 years    --       --       --                                           0                      0  Missing    Yes            Laboratory-confirmed case  Symptomatic       Missing    Missing   No          --\n",
       "  2  2021-03       MI                          26  GLADWIN                    26051  0 - 17 years    --       --       --                                         nan                      0  Missing    Missing        Laboratory-confirmed case  Symptomatic       No         Missing   --          --\n",
       "  3  2021-08       OH                          39  MERCER                     39107  0 - 17 years    --       --       --                                           0                    nan  Missing    Missing        Laboratory-confirmed case  Missing           Missing    Missing   --          --\n",
       "  4  2020-07       KY                          21  PERRY                      21193  0 - 17 years    --       --       --                                         nan                      0  Missing    Missing        Laboratory-confirmed case  Symptomatic       No         Missing   No          --\n",
       "  5  2020-10       CA                           6  CALAVERAS                   6009  18 to 49 years  --       --       --                                         nan                      0  Missing    Missing        Laboratory-confirmed case  Symptomatic       No         Missing   No          --\n",
       "  6  2020-06       CA                           6  SISKIYOU                    6093  18 to 49 years  --       --       --                                         nan                      0  Missing    Missing        Laboratory-confirmed case  Symptomatic       Missing    Missing   No          --\n",
       "  7  2021-04       OR                          41  CURRY                      41015  50 to 64 years  --       --       --                                         nan                      0  Missing    Missing        Laboratory-confirmed case  Symptomatic       No         Missing   No          --\n",
       "  8  2021-08       IL                          17  WILLIAMSON                 17199  50 to 64 years  Missing  Missing  Missing                                    nan                      0  Missing    Missing        Laboratory-confirmed case  Missing           Missing    Missing   Missing     --\n",
       "  9  2021-01       FL                          12  CITRUS                     12017  0 - 17 years    Female   --       --                                         nan                      0  Missing    Missing        Laboratory-confirmed case  Symptomatic       No         Missing   --          --"
      ]
     },
     "execution_count": 33,
     "metadata": {},
     "output_type": "execute_result"
    }
   ],
   "source": [
    "vaex_df = vaex.open('C:/COVID-19_Case_Surveillance_Public_Use_Data_with_Geography.csv.hdf5')\n",
    "vaex_df.head()"
   ]
  },
  {
   "cell_type": "code",
   "execution_count": 34,
   "id": "3550705e",
   "metadata": {},
   "outputs": [
    {
     "data": {
      "text/html": [
       "<table>\n",
       "<thead>\n",
       "<tr><th>#                             </th><th>case_month  </th><th>res_state  </th><th>state_fips_code  </th><th>res_county  </th><th>county_fips_code  </th><th>age_group     </th><th>sex    </th><th>race   </th><th>ethnicity      </th><th>case_positive_specimen_interval  </th><th>case_onset_interval  </th><th>process  </th><th>exposure_yn  </th><th>current_status           </th><th>symptom_status  </th><th>hosp_yn  </th><th>icu_yn  </th><th>death_yn  </th><th>underlying_conditions_yn  </th></tr>\n",
       "</thead>\n",
       "<tbody>\n",
       "<tr><td><i style='opacity: 0.6'>0</i> </td><td>2021-08     </td><td>IL         </td><td>17.0             </td><td>WILLIAMSON  </td><td>17199.0           </td><td>50 to 64 years</td><td>Missing</td><td>Missing</td><td>Missing        </td><td>nan                              </td><td>0.0                  </td><td>Missing  </td><td>Missing      </td><td>Laboratory-confirmed case</td><td>Missing         </td><td>Missing  </td><td>Missing </td><td>Missing   </td><td>--                        </td></tr>\n",
       "<tr><td><i style='opacity: 0.6'>1</i> </td><td>2020-07     </td><td>IL         </td><td>17.0             </td><td>JERSEY      </td><td>17083.0           </td><td>18 to 49 years</td><td>Female </td><td>--     </td><td>--             </td><td>nan                              </td><td>0.0                  </td><td>Missing  </td><td>Yes          </td><td>Probable Case            </td><td>Missing         </td><td>No       </td><td>Unknown </td><td>Unknown   </td><td>--                        </td></tr>\n",
       "<tr><td><i style='opacity: 0.6'>2</i> </td><td>2020-10     </td><td>IL         </td><td>17.0             </td><td>MORGAN      </td><td>17137.0           </td><td>18 to 49 years</td><td>Female </td><td>Missing</td><td>Missing        </td><td>nan                              </td><td>0.0                  </td><td>Missing  </td><td>Missing      </td><td>Laboratory-confirmed case</td><td>Missing         </td><td>Missing  </td><td>Missing </td><td>Missing   </td><td>--                        </td></tr>\n",
       "<tr><td><i style='opacity: 0.6'>3</i> </td><td>2020-12     </td><td>IL         </td><td>17.0             </td><td>CHAMPAIGN   </td><td>17019.0           </td><td>18 to 49 years</td><td>Male   </td><td>Missing</td><td>Missing        </td><td>nan                              </td><td>0.0                  </td><td>Missing  </td><td>Missing      </td><td>Laboratory-confirmed case</td><td>Missing         </td><td>Missing  </td><td>Missing </td><td>Missing   </td><td>--                        </td></tr>\n",
       "<tr><td><i style='opacity: 0.6'>4</i> </td><td>2020-11     </td><td>IL         </td><td>17.0             </td><td>FAYETTE     </td><td>17051.0           </td><td>18 to 49 years</td><td>Male   </td><td>Missing</td><td>Hispanic/Latino</td><td>nan                              </td><td>0.0                  </td><td>Missing  </td><td>Missing      </td><td>Laboratory-confirmed case</td><td>Missing         </td><td>Missing  </td><td>Missing </td><td>--        </td><td>--                        </td></tr>\n",
       "<tr><td>...                           </td><td>...         </td><td>...        </td><td>...              </td><td>...         </td><td>...               </td><td>...           </td><td>...    </td><td>...    </td><td>...            </td><td>...                              </td><td>...                  </td><td>...      </td><td>...          </td><td>...                      </td><td>...             </td><td>...      </td><td>...     </td><td>...       </td><td>...                       </td></tr>\n",
       "<tr><td><i style='opacity: 0.6'>15</i></td><td>2020-12     </td><td>IL         </td><td>17.0             </td><td>MONTGOMERY  </td><td>17135.0           </td><td>0 - 17 years  </td><td>Female </td><td>Missing</td><td>Missing        </td><td>nan                              </td><td>0.0                  </td><td>Missing  </td><td>Missing      </td><td>Laboratory-confirmed case</td><td>Missing         </td><td>No       </td><td>Missing </td><td>Missing   </td><td>--                        </td></tr>\n",
       "<tr><td><i style='opacity: 0.6'>16</i></td><td>2020-12     </td><td>IL         </td><td>17.0             </td><td>MCDONOUGH   </td><td>17109.0           </td><td>18 to 49 years</td><td>Female </td><td>--     </td><td>--             </td><td>nan                              </td><td>0.0                  </td><td>Missing  </td><td>Missing      </td><td>Laboratory-confirmed case</td><td>Missing         </td><td>Missing  </td><td>Missing </td><td>Missing   </td><td>--                        </td></tr>\n",
       "<tr><td><i style='opacity: 0.6'>17</i></td><td>2020-10     </td><td>IL         </td><td>17.0             </td><td>WOODFORD    </td><td>17203.0           </td><td>18 to 49 years</td><td>Female </td><td>Missing</td><td>Missing        </td><td>nan                              </td><td>0.0                  </td><td>Missing  </td><td>Missing      </td><td>Laboratory-confirmed case</td><td>Missing         </td><td>Missing  </td><td>Missing </td><td>Missing   </td><td>--                        </td></tr>\n",
       "<tr><td><i style='opacity: 0.6'>18</i></td><td>2020-08     </td><td>IL         </td><td>17.0             </td><td>WILL        </td><td>17197.0           </td><td>18 to 49 years</td><td>Female </td><td>Missing</td><td>Hispanic/Latino</td><td>nan                              </td><td>0.0                  </td><td>Missing  </td><td>Missing      </td><td>Probable Case            </td><td>Missing         </td><td>Missing  </td><td>Missing </td><td>Missing   </td><td>--                        </td></tr>\n",
       "<tr><td><i style='opacity: 0.6'>19</i></td><td>2020-05     </td><td>IL         </td><td>17.0             </td><td>KANE        </td><td>17089.0           </td><td>18 to 49 years</td><td>Female </td><td>Missing</td><td>Hispanic/Latino</td><td>nan                              </td><td>0.0                  </td><td>Missing  </td><td>Missing      </td><td>Laboratory-confirmed case</td><td>Missing         </td><td>No       </td><td>Unknown </td><td>Unknown   </td><td>--                        </td></tr>\n",
       "</tbody>\n",
       "</table>"
      ],
      "text/plain": [
       "#    case_month    res_state    state_fips_code    res_county    county_fips_code    age_group       sex      race     ethnicity        case_positive_specimen_interval    case_onset_interval    process    exposure_yn    current_status             symptom_status    hosp_yn    icu_yn    death_yn    underlying_conditions_yn\n",
       "0    2021-08       IL           17.0               WILLIAMSON    17199.0             50 to 64 years  Missing  Missing  Missing          nan                                0.0                    Missing    Missing        Laboratory-confirmed case  Missing           Missing    Missing   Missing     --\n",
       "1    2020-07       IL           17.0               JERSEY        17083.0             18 to 49 years  Female   --       --               nan                                0.0                    Missing    Yes            Probable Case              Missing           No         Unknown   Unknown     --\n",
       "2    2020-10       IL           17.0               MORGAN        17137.0             18 to 49 years  Female   Missing  Missing          nan                                0.0                    Missing    Missing        Laboratory-confirmed case  Missing           Missing    Missing   Missing     --\n",
       "3    2020-12       IL           17.0               CHAMPAIGN     17019.0             18 to 49 years  Male     Missing  Missing          nan                                0.0                    Missing    Missing        Laboratory-confirmed case  Missing           Missing    Missing   Missing     --\n",
       "4    2020-11       IL           17.0               FAYETTE       17051.0             18 to 49 years  Male     Missing  Hispanic/Latino  nan                                0.0                    Missing    Missing        Laboratory-confirmed case  Missing           Missing    Missing   --          --\n",
       "...  ...           ...          ...                ...           ...                 ...             ...      ...      ...              ...                                ...                    ...        ...            ...                        ...               ...        ...       ...         ...\n",
       "15   2020-12       IL           17.0               MONTGOMERY    17135.0             0 - 17 years    Female   Missing  Missing          nan                                0.0                    Missing    Missing        Laboratory-confirmed case  Missing           No         Missing   Missing     --\n",
       "16   2020-12       IL           17.0               MCDONOUGH     17109.0             18 to 49 years  Female   --       --               nan                                0.0                    Missing    Missing        Laboratory-confirmed case  Missing           Missing    Missing   Missing     --\n",
       "17   2020-10       IL           17.0               WOODFORD      17203.0             18 to 49 years  Female   Missing  Missing          nan                                0.0                    Missing    Missing        Laboratory-confirmed case  Missing           Missing    Missing   Missing     --\n",
       "18   2020-08       IL           17.0               WILL          17197.0             18 to 49 years  Female   Missing  Hispanic/Latino  nan                                0.0                    Missing    Missing        Probable Case              Missing           Missing    Missing   Missing     --\n",
       "19   2020-05       IL           17.0               KANE          17089.0             18 to 49 years  Female   Missing  Hispanic/Latino  nan                                0.0                    Missing    Missing        Laboratory-confirmed case  Missing           No         Unknown   Unknown     --"
      ]
     },
     "execution_count": 34,
     "metadata": {},
     "output_type": "execute_result"
    }
   ],
   "source": [
    "#Selecting Illinois State\n",
    "\n",
    "Illinios_state_df = vaex_df[vaex_df[\"res_state\"] == \"IL\"]\n",
    "Illinios_state_df.head(20)"
   ]
  },
  {
   "cell_type": "code",
   "execution_count": 35,
   "id": "45f42087",
   "metadata": {},
   "outputs": [
    {
     "data": {
      "text/html": [
       "<table>\n",
       "<thead>\n",
       "<tr><th>#                                    </th><th>case_month  </th><th>res_state  </th><th>state_fips_code  </th><th>res_county  </th><th>county_fips_code  </th><th>age_group     </th><th>sex    </th><th>race   </th><th>ethnicity      </th><th>current_status           </th><th>hosp_yn  </th><th>icu_yn  </th><th>death_yn  </th></tr>\n",
       "</thead>\n",
       "<tbody>\n",
       "<tr><td><i style='opacity: 0.6'>0</i>        </td><td>2021-08     </td><td>IL         </td><td>17.0             </td><td>WILLIAMSON  </td><td>17199.0           </td><td>50 to 64 years</td><td>Missing</td><td>Missing</td><td>Missing        </td><td>Laboratory-confirmed case</td><td>Missing  </td><td>Missing </td><td>Missing   </td></tr>\n",
       "<tr><td><i style='opacity: 0.6'>1</i>        </td><td>2020-07     </td><td>IL         </td><td>17.0             </td><td>JERSEY      </td><td>17083.0           </td><td>18 to 49 years</td><td>Female </td><td>--     </td><td>--             </td><td>Probable Case            </td><td>No       </td><td>Unknown </td><td>Unknown   </td></tr>\n",
       "<tr><td><i style='opacity: 0.6'>2</i>        </td><td>2020-10     </td><td>IL         </td><td>17.0             </td><td>MORGAN      </td><td>17137.0           </td><td>18 to 49 years</td><td>Female </td><td>Missing</td><td>Missing        </td><td>Laboratory-confirmed case</td><td>Missing  </td><td>Missing </td><td>Missing   </td></tr>\n",
       "<tr><td><i style='opacity: 0.6'>3</i>        </td><td>2020-12     </td><td>IL         </td><td>17.0             </td><td>CHAMPAIGN   </td><td>17019.0           </td><td>18 to 49 years</td><td>Male   </td><td>Missing</td><td>Missing        </td><td>Laboratory-confirmed case</td><td>Missing  </td><td>Missing </td><td>Missing   </td></tr>\n",
       "<tr><td><i style='opacity: 0.6'>4</i>        </td><td>2020-11     </td><td>IL         </td><td>17.0             </td><td>FAYETTE     </td><td>17051.0           </td><td>18 to 49 years</td><td>Male   </td><td>Missing</td><td>Hispanic/Latino</td><td>Laboratory-confirmed case</td><td>Missing  </td><td>Missing </td><td>--        </td></tr>\n",
       "<tr><td>...                                  </td><td>...         </td><td>...        </td><td>...              </td><td>...         </td><td>...               </td><td>...           </td><td>...    </td><td>...    </td><td>...            </td><td>...                      </td><td>...      </td><td>...     </td><td>...       </td></tr>\n",
       "<tr><td><i style='opacity: 0.6'>1,503,853</i></td><td>2020-11     </td><td>IL         </td><td>17.0             </td><td>COOK        </td><td>17031.0           </td><td>65+ years     </td><td>Male   </td><td>White  </td><td>Unknown        </td><td>Laboratory-confirmed case</td><td>Missing  </td><td>Missing </td><td>Yes       </td></tr>\n",
       "<tr><td><i style='opacity: 0.6'>1,503,854</i></td><td>2020-11     </td><td>IL         </td><td>17.0             </td><td>COOK        </td><td>17031.0           </td><td>65+ years     </td><td>Male   </td><td>White  </td><td>Unknown        </td><td>Laboratory-confirmed case</td><td>Missing  </td><td>Missing </td><td>Missing   </td></tr>\n",
       "<tr><td><i style='opacity: 0.6'>1,503,855</i></td><td>2020-11     </td><td>IL         </td><td>17.0             </td><td>COOK        </td><td>17031.0           </td><td>65+ years     </td><td>Male   </td><td>White  </td><td>Unknown        </td><td>Laboratory-confirmed case</td><td>Missing  </td><td>Missing </td><td>Yes       </td></tr>\n",
       "<tr><td><i style='opacity: 0.6'>1,503,856</i></td><td>2020-11     </td><td>IL         </td><td>17.0             </td><td>COOK        </td><td>17031.0           </td><td>65+ years     </td><td>Male   </td><td>White  </td><td>Unknown        </td><td>Laboratory-confirmed case</td><td>Missing  </td><td>Missing </td><td>Yes       </td></tr>\n",
       "<tr><td><i style='opacity: 0.6'>1,503,857</i></td><td>2020-11     </td><td>IL         </td><td>17.0             </td><td>COOK        </td><td>17031.0           </td><td>65+ years     </td><td>Male   </td><td>White  </td><td>Unknown        </td><td>Laboratory-confirmed case</td><td>No       </td><td>Missing </td><td>Missing   </td></tr>\n",
       "</tbody>\n",
       "</table>"
      ],
      "text/plain": [
       "#          case_month    res_state    state_fips_code    res_county    county_fips_code    age_group       sex      race     ethnicity        current_status             hosp_yn    icu_yn    death_yn\n",
       "0          2021-08       IL           17.0               WILLIAMSON    17199.0             50 to 64 years  Missing  Missing  Missing          Laboratory-confirmed case  Missing    Missing   Missing\n",
       "1          2020-07       IL           17.0               JERSEY        17083.0             18 to 49 years  Female   --       --               Probable Case              No         Unknown   Unknown\n",
       "2          2020-10       IL           17.0               MORGAN        17137.0             18 to 49 years  Female   Missing  Missing          Laboratory-confirmed case  Missing    Missing   Missing\n",
       "3          2020-12       IL           17.0               CHAMPAIGN     17019.0             18 to 49 years  Male     Missing  Missing          Laboratory-confirmed case  Missing    Missing   Missing\n",
       "4          2020-11       IL           17.0               FAYETTE       17051.0             18 to 49 years  Male     Missing  Hispanic/Latino  Laboratory-confirmed case  Missing    Missing   --\n",
       "...        ...           ...          ...                ...           ...                 ...             ...      ...      ...              ...                        ...        ...       ...\n",
       "1,503,853  2020-11       IL           17.0               COOK          17031.0             65+ years       Male     White    Unknown          Laboratory-confirmed case  Missing    Missing   Yes\n",
       "1,503,854  2020-11       IL           17.0               COOK          17031.0             65+ years       Male     White    Unknown          Laboratory-confirmed case  Missing    Missing   Missing\n",
       "1,503,855  2020-11       IL           17.0               COOK          17031.0             65+ years       Male     White    Unknown          Laboratory-confirmed case  Missing    Missing   Yes\n",
       "1,503,856  2020-11       IL           17.0               COOK          17031.0             65+ years       Male     White    Unknown          Laboratory-confirmed case  Missing    Missing   Yes\n",
       "1,503,857  2020-11       IL           17.0               COOK          17031.0             65+ years       Male     White    Unknown          Laboratory-confirmed case  No         Missing   Missing"
      ]
     },
     "execution_count": 35,
     "metadata": {},
     "output_type": "execute_result"
    }
   ],
   "source": [
    "to_drop = ['case_positive_specimen_interval',\n",
    "            'case_onset_interval',\n",
    "            'process',\n",
    "            'exposure_yn',\n",
    "            'underlying_conditions_yn',\n",
    "           'symptom_status',\n",
    "          ]\n",
    "\n",
    "\n",
    "Illinios_state_df.drop(to_drop, inplace=True)"
   ]
  },
  {
   "cell_type": "code",
   "execution_count": 36,
   "id": "c8ab1853",
   "metadata": {},
   "outputs": [
    {
     "data": {
      "text/html": [
       "<table>\n",
       "<thead>\n",
       "<tr><th>#                                    </th><th>case_month  </th><th>res_state  </th><th>state_fips_code  </th><th>res_county  </th><th>county_fips_code  </th><th>age_group     </th><th>sex    </th><th>race   </th><th>ethnicity      </th><th>current_status           </th><th>hosp_yn  </th><th>icu_yn  </th><th>death_yn  </th></tr>\n",
       "</thead>\n",
       "<tbody>\n",
       "<tr><td><i style='opacity: 0.6'>0</i>        </td><td>2021-08     </td><td>IL         </td><td>17.0             </td><td>WILLIAMSON  </td><td>17199.0           </td><td>50 to 64 years</td><td>Missing</td><td>Missing</td><td>Missing        </td><td>Laboratory-confirmed case</td><td>Missing  </td><td>Missing </td><td>Missing   </td></tr>\n",
       "<tr><td><i style='opacity: 0.6'>1</i>        </td><td>2020-10     </td><td>IL         </td><td>17.0             </td><td>MORGAN      </td><td>17137.0           </td><td>18 to 49 years</td><td>Female </td><td>Missing</td><td>Missing        </td><td>Laboratory-confirmed case</td><td>Missing  </td><td>Missing </td><td>Missing   </td></tr>\n",
       "<tr><td><i style='opacity: 0.6'>2</i>        </td><td>2020-12     </td><td>IL         </td><td>17.0             </td><td>CHAMPAIGN   </td><td>17019.0           </td><td>18 to 49 years</td><td>Male   </td><td>Missing</td><td>Missing        </td><td>Laboratory-confirmed case</td><td>Missing  </td><td>Missing </td><td>Missing   </td></tr>\n",
       "<tr><td><i style='opacity: 0.6'>3</i>        </td><td>2021-08     </td><td>IL         </td><td>17.0             </td><td>ROCK ISLAND </td><td>17161.0           </td><td>0 - 17 years  </td><td>Female </td><td>White  </td><td>Hispanic/Latino</td><td>Probable Case            </td><td>Missing  </td><td>Missing </td><td>Missing   </td></tr>\n",
       "<tr><td><i style='opacity: 0.6'>4</i>        </td><td>2020-11     </td><td>IL         </td><td>17.0             </td><td>DEKALB      </td><td>17037.0           </td><td>18 to 49 years</td><td>Female </td><td>White  </td><td>Hispanic/Latino</td><td>Laboratory-confirmed case</td><td>Missing  </td><td>Missing </td><td>Missing   </td></tr>\n",
       "<tr><td>...                                  </td><td>...         </td><td>...        </td><td>...              </td><td>...         </td><td>...               </td><td>...           </td><td>...    </td><td>...    </td><td>...            </td><td>...                      </td><td>...      </td><td>...     </td><td>...       </td></tr>\n",
       "<tr><td><i style='opacity: 0.6'>1,165,348</i></td><td>2020-11     </td><td>IL         </td><td>17.0             </td><td>COOK        </td><td>17031.0           </td><td>65+ years     </td><td>Male   </td><td>White  </td><td>Unknown        </td><td>Laboratory-confirmed case</td><td>Missing  </td><td>Missing </td><td>Yes       </td></tr>\n",
       "<tr><td><i style='opacity: 0.6'>1,165,349</i></td><td>2020-11     </td><td>IL         </td><td>17.0             </td><td>COOK        </td><td>17031.0           </td><td>65+ years     </td><td>Male   </td><td>White  </td><td>Unknown        </td><td>Laboratory-confirmed case</td><td>Missing  </td><td>Missing </td><td>Missing   </td></tr>\n",
       "<tr><td><i style='opacity: 0.6'>1,165,350</i></td><td>2020-11     </td><td>IL         </td><td>17.0             </td><td>COOK        </td><td>17031.0           </td><td>65+ years     </td><td>Male   </td><td>White  </td><td>Unknown        </td><td>Laboratory-confirmed case</td><td>Missing  </td><td>Missing </td><td>Yes       </td></tr>\n",
       "<tr><td><i style='opacity: 0.6'>1,165,351</i></td><td>2020-11     </td><td>IL         </td><td>17.0             </td><td>COOK        </td><td>17031.0           </td><td>65+ years     </td><td>Male   </td><td>White  </td><td>Unknown        </td><td>Laboratory-confirmed case</td><td>Missing  </td><td>Missing </td><td>Yes       </td></tr>\n",
       "<tr><td><i style='opacity: 0.6'>1,165,352</i></td><td>2020-11     </td><td>IL         </td><td>17.0             </td><td>COOK        </td><td>17031.0           </td><td>65+ years     </td><td>Male   </td><td>White  </td><td>Unknown        </td><td>Laboratory-confirmed case</td><td>No       </td><td>Missing </td><td>Missing   </td></tr>\n",
       "</tbody>\n",
       "</table>"
      ],
      "text/plain": [
       "#          case_month    res_state    state_fips_code    res_county    county_fips_code    age_group       sex      race     ethnicity        current_status             hosp_yn    icu_yn    death_yn\n",
       "0          2021-08       IL           17.0               WILLIAMSON    17199.0             50 to 64 years  Missing  Missing  Missing          Laboratory-confirmed case  Missing    Missing   Missing\n",
       "1          2020-10       IL           17.0               MORGAN        17137.0             18 to 49 years  Female   Missing  Missing          Laboratory-confirmed case  Missing    Missing   Missing\n",
       "2          2020-12       IL           17.0               CHAMPAIGN     17019.0             18 to 49 years  Male     Missing  Missing          Laboratory-confirmed case  Missing    Missing   Missing\n",
       "3          2021-08       IL           17.0               ROCK ISLAND   17161.0             0 - 17 years    Female   White    Hispanic/Latino  Probable Case              Missing    Missing   Missing\n",
       "4          2020-11       IL           17.0               DEKALB        17037.0             18 to 49 years  Female   White    Hispanic/Latino  Laboratory-confirmed case  Missing    Missing   Missing\n",
       "...        ...           ...          ...                ...           ...                 ...             ...      ...      ...              ...                        ...        ...       ...\n",
       "1,165,348  2020-11       IL           17.0               COOK          17031.0             65+ years       Male     White    Unknown          Laboratory-confirmed case  Missing    Missing   Yes\n",
       "1,165,349  2020-11       IL           17.0               COOK          17031.0             65+ years       Male     White    Unknown          Laboratory-confirmed case  Missing    Missing   Missing\n",
       "1,165,350  2020-11       IL           17.0               COOK          17031.0             65+ years       Male     White    Unknown          Laboratory-confirmed case  Missing    Missing   Yes\n",
       "1,165,351  2020-11       IL           17.0               COOK          17031.0             65+ years       Male     White    Unknown          Laboratory-confirmed case  Missing    Missing   Yes\n",
       "1,165,352  2020-11       IL           17.0               COOK          17031.0             65+ years       Male     White    Unknown          Laboratory-confirmed case  No         Missing   Missing"
      ]
     },
     "execution_count": 36,
     "metadata": {},
     "output_type": "execute_result"
    }
   ],
   "source": [
    "df_new = Illinios_state_df.dropna()\n",
    "df_new"
   ]
  },
  {
   "cell_type": "code",
   "execution_count": 10,
   "id": "7560eadc",
   "metadata": {},
   "outputs": [],
   "source": [
    "df_new.export_csv(\"C:/covid1.csv\")"
   ]
  },
  {
   "cell_type": "code",
   "execution_count": 37,
   "id": "c14bcea0",
   "metadata": {},
   "outputs": [
    {
     "data": {
      "text/plain": [
       "pandas.core.frame.DataFrame"
      ]
     },
     "execution_count": 37,
     "metadata": {},
     "output_type": "execute_result"
    }
   ],
   "source": [
    "data = pd.read_csv(\"C:/covid1.csv\")\n",
    "type(data)"
   ]
  },
  {
   "cell_type": "code",
   "execution_count": 38,
   "id": "3094359f",
   "metadata": {},
   "outputs": [],
   "source": [
    "data['sex']=np.where(data['sex'] =='Missing', 'Unknown', data['sex'])\n",
    "data['race']=np.where(data['race'] =='Missing', 'Unknown', data['race'])\n",
    "data['ethnicity']=np.where(data['ethnicity'] =='Missing', 'Unknown', data['ethnicity'])"
   ]
  },
  {
   "cell_type": "code",
   "execution_count": 39,
   "id": "c76c3d83",
   "metadata": {},
   "outputs": [
    {
     "data": {
      "text/plain": [
       "18 to 49 years    648658\n",
       "50 to 64 years    232545\n",
       "65+ years         142436\n",
       "0 - 17 years      141577\n",
       "Missing              137\n",
       "Name: age_group, dtype: int64"
      ]
     },
     "execution_count": 39,
     "metadata": {},
     "output_type": "execute_result"
    }
   ],
   "source": [
    "data['age_group'].value_counts()"
   ]
  },
  {
   "cell_type": "code",
   "execution_count": 40,
   "id": "6143bee2",
   "metadata": {},
   "outputs": [
    {
     "data": {
      "text/plain": [
       "array(['50 to 64 years', '18 to 49 years', '0 - 17 years', '65+ years',\n",
       "       'Missing'], dtype=object)"
      ]
     },
     "execution_count": 40,
     "metadata": {},
     "output_type": "execute_result"
    }
   ],
   "source": [
    "data['age_group'].unique()"
   ]
  },
  {
   "cell_type": "code",
   "execution_count": 41,
   "id": "acefb97b",
   "metadata": {},
   "outputs": [
    {
     "data": {
      "text/plain": [
       "array(['Unknown', 'Female', 'Male'], dtype=object)"
      ]
     },
     "execution_count": 41,
     "metadata": {},
     "output_type": "execute_result"
    }
   ],
   "source": [
    "data['sex'].value_counts()\n",
    "data['sex'].unique()"
   ]
  },
  {
   "cell_type": "code",
   "execution_count": 42,
   "id": "e9295a58",
   "metadata": {},
   "outputs": [
    {
     "data": {
      "text/plain": [
       "array(['Unknown', 'White', 'American Indian/Alaska Native', 'Black',\n",
       "       'Asian', 'Multiple/Other',\n",
       "       'Native Hawaiian/Other Pacific Islander'], dtype=object)"
      ]
     },
     "execution_count": 42,
     "metadata": {},
     "output_type": "execute_result"
    }
   ],
   "source": [
    "data['race'].value_counts()\n",
    "data['race'].unique()"
   ]
  },
  {
   "cell_type": "code",
   "execution_count": 43,
   "id": "be01c30d",
   "metadata": {},
   "outputs": [
    {
     "data": {
      "text/plain": [
       "Non-Hispanic/Latino    592536\n",
       "Unknown                442506\n",
       "Hispanic/Latino        130311\n",
       "Name: ethnicity, dtype: int64"
      ]
     },
     "execution_count": 43,
     "metadata": {},
     "output_type": "execute_result"
    }
   ],
   "source": [
    "data['ethnicity'].value_counts()"
   ]
  },
  {
   "cell_type": "markdown",
   "id": "de7d51a8",
   "metadata": {},
   "source": [
    "Changing the value names; "
   ]
  },
  {
   "cell_type": "markdown",
   "id": "5bb69a79",
   "metadata": {},
   "source": [
    "### DATA EXPLORATION"
   ]
  },
  {
   "cell_type": "code",
   "execution_count": 18,
   "id": "823807c6",
   "metadata": {},
   "outputs": [
    {
     "data": {
      "text/plain": [
       "array(['Laboratory-confirmed case', 'Probable Case'], dtype=object)"
      ]
     },
     "execution_count": 18,
     "metadata": {},
     "output_type": "execute_result"
    }
   ],
   "source": [
    "data['current_status'].value_counts()\n",
    "data['current_status'].unique()"
   ]
  },
  {
   "cell_type": "code",
   "execution_count": 19,
   "id": "444a610d",
   "metadata": {},
   "outputs": [
    {
     "data": {
      "image/png": "[encoded data removed]",
      "text/plain": [
       "<Figure size 432x288 with 1 Axes>"
      ]
     },
     "metadata": {
      "needs_background": "light"
     },
     "output_type": "display_data"
    },
    {
     "data": {
      "text/plain": [
       "<Figure size 432x288 with 0 Axes>"
      ]
     },
     "metadata": {},
     "output_type": "display_data"
    }
   ],
   "source": [
    "sns.countplot(x = 'current_status', data = data, palette ='hls')\n",
    "plt.show()\n",
    "plt.savefig(\"count plot\")"
   ]
  },
  {
   "cell_type": "code",
   "execution_count": 20,
   "id": "bb7ab77e",
   "metadata": {},
   "outputs": [
    {
     "data": {
      "image/png": "[encoded data removed]",
      "text/plain": [
       "<Figure size 1440x720 with 1 Axes>"
      ]
     },
     "metadata": {
      "needs_background": "light"
     },
     "output_type": "display_data"
    }
   ],
   "source": [
    "%matplotlib inline\n",
    "\n",
    "pd.crosstab(data.res_county,data.current_status).plot(kind='bar')\n",
    "plt.gcf().set_size_inches(20, 10)\n",
    "plt.title('Confirmed cases vs residential county ')\n",
    "plt.xlabel('resident county')\n",
    "plt.ylabel('Cases')\n",
    "plt.savefig('cases_fre_residence')"
   ]
  },
  {
   "cell_type": "code",
   "execution_count": 21,
   "id": "5d7f7030",
   "metadata": {},
   "outputs": [
    {
     "data": {
      "image/png": "[encoded data removed]",
      "text/plain": [
       "<Figure size 720x720 with 1 Axes>"
      ]
     },
     "metadata": {
      "needs_background": "light"
     },
     "output_type": "display_data"
    }
   ],
   "source": [
    "%matplotlib inline\n",
    "\n",
    "pd.crosstab(data.age_group,data.current_status).plot(kind='bar')\n",
    "plt.gcf().set_size_inches(10, 10)\n",
    "plt.title('Confirmed cases vs age_group')\n",
    "plt.xlabel('age group')\n",
    "plt.ylabel('Cases')\n",
    "plt.savefig('cases_fre_age_group')"
   ]
  },
  {
   "cell_type": "code",
   "execution_count": 22,
   "id": "4b93f902",
   "metadata": {},
   "outputs": [
    {
     "data": {
      "image/png": "[encoded data removed]",
      "text/plain": [
       "<Figure size 720x720 with 1 Axes>"
      ]
     },
     "metadata": {
      "needs_background": "light"
     },
     "output_type": "display_data"
    }
   ],
   "source": [
    "%matplotlib inline\n",
    "\n",
    "pd.crosstab(data.sex,data.current_status).plot(kind='bar')\n",
    "plt.gcf().set_size_inches(10, 10)\n",
    "plt.title('Confirmed cases vs sex ')\n",
    "plt.xlabel('sex')\n",
    "plt.ylabel('Cases')\n",
    "plt.savefig('cases_fre_sex')"
   ]
  },
  {
   "cell_type": "code",
   "execution_count": 23,
   "id": "6f0a5f58",
   "metadata": {},
   "outputs": [
    {
     "data": {
      "image/png": "[encoded data removed]",
      "text/plain": [
       "<Figure size 864x576 with 1 Axes>"
      ]
     },
     "metadata": {
      "needs_background": "light"
     },
     "output_type": "display_data"
    }
   ],
   "source": [
    "%matplotlib inline\n",
    "\n",
    "pd.crosstab(data.race,data.current_status).plot(kind='bar')\n",
    "plt.gcf().set_size_inches(12, 8)\n",
    "plt.title('Confirmed cases vs race ')\n",
    "plt.xlabel('race')\n",
    "plt.ylabel('Cases')\n",
    "plt.savefig('cases_fre_race')"
   ]
  },
  {
   "cell_type": "markdown",
   "id": "51b1520a",
   "metadata": {},
   "source": [
    "### Changing categorical into numeric  "
   ]
  },
  {
   "cell_type": "code",
   "execution_count": 44,
   "id": "a20074a3",
   "metadata": {},
   "outputs": [],
   "source": [
    "data['age_group'].replace(['50 to 64 years', '18 to 49 years', '0 - 17 years', '65+ years',\n",
    "       'Missing'],\n",
    "                        [0, 1, 2, 3, 4], inplace=True)\n",
    "data['sex'].replace(['Unknown', 'Female', 'Male'],\n",
    "                        [0, 1, 2], inplace=True)\n",
    "\n",
    "data['race'].replace(['Unknown', 'White', 'American Indian/Alaska Native', 'Black',\n",
    "       'Asian', 'Multiple/Other',\n",
    "       'Native Hawaiian/Other Pacific Islander'],\n",
    "                        [0, 1, 2, 3, 4, 5, 6], inplace=True)\n",
    "data['current_status'].replace(['Laboratory-confirmed case', 'Probable Case'], [1,0], inplace = True)"
   ]
  },
  {
   "cell_type": "code",
   "execution_count": 46,
   "id": "86df78c8",
   "metadata": {},
   "outputs": [],
   "source": [
    "data_split = data.sample(frac= 0.1,random_state=200) #splitting the data to increase the time\n",
    "data_split.reset_index(inplace = True)"
   ]
  },
  {
   "cell_type": "code",
   "execution_count": 47,
   "id": "83ffc050",
   "metadata": {},
   "outputs": [
    {
     "name": "stderr",
     "output_type": "stream",
     "text": [
      "<ipython-input-47-83908f6b0c73>:2: SettingWithCopyWarning: \n",
      "A value is trying to be set on a copy of a slice from a DataFrame\n",
      "\n",
      "See the caveats in the documentation: https://pandas.pydata.org/pandas-docs/stable/user_guide/indexing.html#returning-a-view-versus-a-copy\n",
      "  data_split.case_month[i] =  data_split.case_month[i].replace(\"-\",\"\")\n"
     ]
    }
   ],
   "source": [
    "for i in range(len(data_split['case_month'])):\n",
    "    data_split.case_month[i] =  data_split.case_month[i].replace(\"-\",\"\")\n"
   ]
  },
  {
   "cell_type": "code",
   "execution_count": 61,
   "id": "73e6f1e7",
   "metadata": {},
   "outputs": [
    {
     "data": {
      "text/html": [
       "<div>\n",
       "<style scoped>\n",
       "    .dataframe tbody tr th:only-of-type {\n",
       "        vertical-align: middle;\n",
       "    }\n",
       "\n",
       "    .dataframe tbody tr th {\n",
       "        vertical-align: top;\n",
       "    }\n",
       "\n",
       "    .dataframe thead th {\n",
       "        text-align: right;\n",
       "    }\n",
       "</style>\n",
       "<table border=\"1\" class=\"dataframe\">\n",
       "  <thead>\n",
       "    <tr style=\"text-align: right;\">\n",
       "      <th></th>\n",
       "      <th>index</th>\n",
       "      <th>case_month</th>\n",
       "      <th>res_state</th>\n",
       "      <th>state_fips_code</th>\n",
       "      <th>res_county</th>\n",
       "      <th>county_fips_code</th>\n",
       "      <th>age_group</th>\n",
       "      <th>sex</th>\n",
       "      <th>race</th>\n",
       "      <th>ethnicity</th>\n",
       "      <th>current_status</th>\n",
       "      <th>hosp_yn</th>\n",
       "      <th>icu_yn</th>\n",
       "      <th>death_yn</th>\n",
       "    </tr>\n",
       "  </thead>\n",
       "  <tbody>\n",
       "    <tr>\n",
       "      <th>0</th>\n",
       "      <td>425136</td>\n",
       "      <td>202103</td>\n",
       "      <td>IL</td>\n",
       "      <td>17.0</td>\n",
       "      <td>CHAMPAIGN</td>\n",
       "      <td>17019.0</td>\n",
       "      <td>2</td>\n",
       "      <td>2</td>\n",
       "      <td>3</td>\n",
       "      <td>Non-Hispanic/Latino</td>\n",
       "      <td>1</td>\n",
       "      <td>Missing</td>\n",
       "      <td>Missing</td>\n",
       "      <td>Missing</td>\n",
       "    </tr>\n",
       "    <tr>\n",
       "      <th>1</th>\n",
       "      <td>784000</td>\n",
       "      <td>202006</td>\n",
       "      <td>IL</td>\n",
       "      <td>17.0</td>\n",
       "      <td>COOK</td>\n",
       "      <td>17031.0</td>\n",
       "      <td>1</td>\n",
       "      <td>1</td>\n",
       "      <td>3</td>\n",
       "      <td>Non-Hispanic/Latino</td>\n",
       "      <td>1</td>\n",
       "      <td>No</td>\n",
       "      <td>Unknown</td>\n",
       "      <td>Unknown</td>\n",
       "    </tr>\n",
       "    <tr>\n",
       "      <th>2</th>\n",
       "      <td>398952</td>\n",
       "      <td>202012</td>\n",
       "      <td>IL</td>\n",
       "      <td>17.0</td>\n",
       "      <td>LAKE</td>\n",
       "      <td>17097.0</td>\n",
       "      <td>1</td>\n",
       "      <td>1</td>\n",
       "      <td>1</td>\n",
       "      <td>Non-Hispanic/Latino</td>\n",
       "      <td>1</td>\n",
       "      <td>No</td>\n",
       "      <td>Missing</td>\n",
       "      <td>Missing</td>\n",
       "    </tr>\n",
       "    <tr>\n",
       "      <th>3</th>\n",
       "      <td>170366</td>\n",
       "      <td>202101</td>\n",
       "      <td>IL</td>\n",
       "      <td>17.0</td>\n",
       "      <td>LIVINGSTON</td>\n",
       "      <td>17105.0</td>\n",
       "      <td>1</td>\n",
       "      <td>1</td>\n",
       "      <td>1</td>\n",
       "      <td>Non-Hispanic/Latino</td>\n",
       "      <td>0</td>\n",
       "      <td>Missing</td>\n",
       "      <td>Missing</td>\n",
       "      <td>Missing</td>\n",
       "    </tr>\n",
       "    <tr>\n",
       "      <th>4</th>\n",
       "      <td>1108892</td>\n",
       "      <td>202012</td>\n",
       "      <td>IL</td>\n",
       "      <td>17.0</td>\n",
       "      <td>COOK</td>\n",
       "      <td>17031.0</td>\n",
       "      <td>0</td>\n",
       "      <td>2</td>\n",
       "      <td>3</td>\n",
       "      <td>Non-Hispanic/Latino</td>\n",
       "      <td>0</td>\n",
       "      <td>Missing</td>\n",
       "      <td>Missing</td>\n",
       "      <td>Missing</td>\n",
       "    </tr>\n",
       "    <tr>\n",
       "      <th>...</th>\n",
       "      <td>...</td>\n",
       "      <td>...</td>\n",
       "      <td>...</td>\n",
       "      <td>...</td>\n",
       "      <td>...</td>\n",
       "      <td>...</td>\n",
       "      <td>...</td>\n",
       "      <td>...</td>\n",
       "      <td>...</td>\n",
       "      <td>...</td>\n",
       "      <td>...</td>\n",
       "      <td>...</td>\n",
       "      <td>...</td>\n",
       "      <td>...</td>\n",
       "    </tr>\n",
       "    <tr>\n",
       "      <th>116530</th>\n",
       "      <td>643921</td>\n",
       "      <td>202004</td>\n",
       "      <td>IL</td>\n",
       "      <td>17.0</td>\n",
       "      <td>KANE</td>\n",
       "      <td>17089.0</td>\n",
       "      <td>3</td>\n",
       "      <td>1</td>\n",
       "      <td>1</td>\n",
       "      <td>Non-Hispanic/Latino</td>\n",
       "      <td>1</td>\n",
       "      <td>No</td>\n",
       "      <td>No</td>\n",
       "      <td>Yes</td>\n",
       "    </tr>\n",
       "    <tr>\n",
       "      <th>116531</th>\n",
       "      <td>348662</td>\n",
       "      <td>202104</td>\n",
       "      <td>IL</td>\n",
       "      <td>17.0</td>\n",
       "      <td>MCLEAN</td>\n",
       "      <td>17113.0</td>\n",
       "      <td>2</td>\n",
       "      <td>1</td>\n",
       "      <td>5</td>\n",
       "      <td>Non-Hispanic/Latino</td>\n",
       "      <td>1</td>\n",
       "      <td>No</td>\n",
       "      <td>Missing</td>\n",
       "      <td>Missing</td>\n",
       "    </tr>\n",
       "    <tr>\n",
       "      <th>116532</th>\n",
       "      <td>187257</td>\n",
       "      <td>202107</td>\n",
       "      <td>IL</td>\n",
       "      <td>17.0</td>\n",
       "      <td>ADAMS</td>\n",
       "      <td>17001.0</td>\n",
       "      <td>1</td>\n",
       "      <td>1</td>\n",
       "      <td>0</td>\n",
       "      <td>Unknown</td>\n",
       "      <td>0</td>\n",
       "      <td>Missing</td>\n",
       "      <td>Missing</td>\n",
       "      <td>Missing</td>\n",
       "    </tr>\n",
       "    <tr>\n",
       "      <th>116533</th>\n",
       "      <td>1076336</td>\n",
       "      <td>202012</td>\n",
       "      <td>IL</td>\n",
       "      <td>17.0</td>\n",
       "      <td>COOK</td>\n",
       "      <td>17031.0</td>\n",
       "      <td>1</td>\n",
       "      <td>1</td>\n",
       "      <td>0</td>\n",
       "      <td>Unknown</td>\n",
       "      <td>1</td>\n",
       "      <td>Missing</td>\n",
       "      <td>Missing</td>\n",
       "      <td>Missing</td>\n",
       "    </tr>\n",
       "    <tr>\n",
       "      <th>116534</th>\n",
       "      <td>57961</td>\n",
       "      <td>202012</td>\n",
       "      <td>IL</td>\n",
       "      <td>17.0</td>\n",
       "      <td>ADAMS</td>\n",
       "      <td>17001.0</td>\n",
       "      <td>1</td>\n",
       "      <td>0</td>\n",
       "      <td>0</td>\n",
       "      <td>Unknown</td>\n",
       "      <td>0</td>\n",
       "      <td>Missing</td>\n",
       "      <td>Missing</td>\n",
       "      <td>Missing</td>\n",
       "    </tr>\n",
       "  </tbody>\n",
       "</table>\n",
       "<p>116535 rows × 14 columns</p>\n",
       "</div>"
      ],
      "text/plain": [
       "          index  case_month res_state  state_fips_code  res_county  \\\n",
       "0        425136      202103        IL             17.0   CHAMPAIGN   \n",
       "1        784000      202006        IL             17.0        COOK   \n",
       "2        398952      202012        IL             17.0        LAKE   \n",
       "3        170366      202101        IL             17.0  LIVINGSTON   \n",
       "4       1108892      202012        IL             17.0        COOK   \n",
       "...         ...         ...       ...              ...         ...   \n",
       "116530   643921      202004        IL             17.0        KANE   \n",
       "116531   348662      202104        IL             17.0      MCLEAN   \n",
       "116532   187257      202107        IL             17.0       ADAMS   \n",
       "116533  1076336      202012        IL             17.0        COOK   \n",
       "116534    57961      202012        IL             17.0       ADAMS   \n",
       "\n",
       "        county_fips_code  age_group  sex  race            ethnicity  \\\n",
       "0                17019.0          2    2     3  Non-Hispanic/Latino   \n",
       "1                17031.0          1    1     3  Non-Hispanic/Latino   \n",
       "2                17097.0          1    1     1  Non-Hispanic/Latino   \n",
       "3                17105.0          1    1     1  Non-Hispanic/Latino   \n",
       "4                17031.0          0    2     3  Non-Hispanic/Latino   \n",
       "...                  ...        ...  ...   ...                  ...   \n",
       "116530           17089.0          3    1     1  Non-Hispanic/Latino   \n",
       "116531           17113.0          2    1     5  Non-Hispanic/Latino   \n",
       "116532           17001.0          1    1     0              Unknown   \n",
       "116533           17031.0          1    1     0              Unknown   \n",
       "116534           17001.0          1    0     0              Unknown   \n",
       "\n",
       "        current_status  hosp_yn   icu_yn death_yn  \n",
       "0                    1  Missing  Missing  Missing  \n",
       "1                    1       No  Unknown  Unknown  \n",
       "2                    1       No  Missing  Missing  \n",
       "3                    0  Missing  Missing  Missing  \n",
       "4                    0  Missing  Missing  Missing  \n",
       "...                ...      ...      ...      ...  \n",
       "116530               1       No       No      Yes  \n",
       "116531               1       No  Missing  Missing  \n",
       "116532               0  Missing  Missing  Missing  \n",
       "116533               1  Missing  Missing  Missing  \n",
       "116534               0  Missing  Missing  Missing  \n",
       "\n",
       "[116535 rows x 14 columns]"
      ]
     },
     "execution_count": 61,
     "metadata": {},
     "output_type": "execute_result"
    }
   ],
   "source": [
    "data_split.case_month = pd.to_numeric(data_split.case_month)\n",
    "data_split"
   ]
  },
  {
   "cell_type": "code",
   "execution_count": 60,
   "id": "1d8cb8c2",
   "metadata": {},
   "outputs": [],
   "source": [
    "data_split.to_csv(\"C:/processed_covid.csv\")"
   ]
  },
  {
   "cell_type": "code",
   "execution_count": 63,
   "id": "a8807ee2",
   "metadata": {},
   "outputs": [],
   "source": [
    "to_drop = ['res_county',\n",
    "            'res_state',\n",
    "            'ethnicity',\n",
    "            'hosp_yn',\n",
    "            'icu_yn',\n",
    "           'death_yn',\n",
    "           'index'\n",
    "          ]\n",
    "\n",
    "\n",
    "data_split.drop(to_drop, axis = 1, inplace=True)"
   ]
  },
  {
   "cell_type": "code",
   "execution_count": 65,
   "id": "00bd8239",
   "metadata": {},
   "outputs": [],
   "source": [
    "X = data_split.loc[:, data_split.columns != 'current_status']\n",
    "y = data_split.loc[:, data_split.columns == 'current_status']"
   ]
  },
  {
   "cell_type": "code",
   "execution_count": 66,
   "id": "46d23373",
   "metadata": {},
   "outputs": [],
   "source": [
    "from sklearn.linear_model import LogisticRegression\n",
    "model = LogisticRegression(solver='liblinear', random_state=0)"
   ]
  },
  {
   "cell_type": "code",
   "execution_count": 67,
   "id": "c377ce2a",
   "metadata": {},
   "outputs": [
    {
     "name": "stderr",
     "output_type": "stream",
     "text": [
      "C:\\Users\\HP\\anaconda3\\lib\\site-packages\\sklearn\\utils\\validation.py:63: DataConversionWarning: A column-vector y was passed when a 1d array was expected. Please change the shape of y to (n_samples, ), for example using ravel().\n",
      "  return f(*args, **kwargs)\n"
     ]
    },
    {
     "data": {
      "text/plain": [
       "LogisticRegression(random_state=0, solver='liblinear')"
      ]
     },
     "execution_count": 67,
     "metadata": {},
     "output_type": "execute_result"
    }
   ],
   "source": [
    "model.fit(X, y)"
   ]
  },
  {
   "cell_type": "code",
   "execution_count": 68,
   "id": "c381e3b9",
   "metadata": {},
   "outputs": [
    {
     "data": {
      "text/plain": [
       "array([9.11895969e-09])"
      ]
     },
     "execution_count": 68,
     "metadata": {},
     "output_type": "execute_result"
    }
   ],
   "source": [
    "model.intercept_"
   ]
  },
  {
   "cell_type": "code",
   "execution_count": 69,
   "id": "eacec4fb",
   "metadata": {},
   "outputs": [
    {
     "data": {
      "text/plain": [
       "array([[ 7.31239337e-05,  2.16031501e-08, -7.35966169e-04,\n",
       "        -1.86405442e-06,  3.18403906e-06,  5.29294725e-06]])"
      ]
     },
     "execution_count": 69,
     "metadata": {},
     "output_type": "execute_result"
    }
   ],
   "source": [
    "model.coef_"
   ]
  },
  {
   "cell_type": "code",
   "execution_count": 70,
   "id": "8660f616",
   "metadata": {},
   "outputs": [
    {
     "data": {
      "text/plain": [
       "array([[0.09507577, 0.90492423],\n",
       "       [0.09645485, 0.90354515],\n",
       "       [0.1007331 , 0.8992669 ],\n",
       "       ...,\n",
       "       [0.09391868, 0.90608132],\n",
       "       [0.096418  , 0.903582  ],\n",
       "       [0.09451178, 0.90548822]])"
      ]
     },
     "execution_count": 70,
     "metadata": {},
     "output_type": "execute_result"
    }
   ],
   "source": [
    "model.predict_proba(X)"
   ]
  },
  {
   "cell_type": "code",
   "execution_count": 71,
   "id": "4b0ca60c",
   "metadata": {},
   "outputs": [
    {
     "data": {
      "text/plain": [
       "array([1, 1, 1, ..., 1, 1, 1], dtype=int64)"
      ]
     },
     "execution_count": 71,
     "metadata": {},
     "output_type": "execute_result"
    }
   ],
   "source": [
    "model.predict(X)"
   ]
  },
  {
   "cell_type": "code",
   "execution_count": 72,
   "id": "ccb9173a",
   "metadata": {},
   "outputs": [
    {
     "data": {
      "text/plain": [
       "0.9006221306903506"
      ]
     },
     "execution_count": 72,
     "metadata": {},
     "output_type": "execute_result"
    }
   ],
   "source": [
    "model.score(X,y)\n",
    "\n",
    "#90% accuracy "
   ]
  },
  {
   "cell_type": "code",
   "execution_count": 73,
   "id": "5c9fc7d7",
   "metadata": {},
   "outputs": [
    {
     "data": {
      "text/plain": [
       "array([[     0,  11581],\n",
       "       [     0, 104954]], dtype=int64)"
      ]
     },
     "execution_count": 73,
     "metadata": {},
     "output_type": "execute_result"
    }
   ],
   "source": [
    "from sklearn.metrics import confusion_matrix\n",
    "confusion_matrix(y, model.predict(X))"
   ]
  },
  {
   "cell_type": "markdown",
   "id": "09869219",
   "metadata": {},
   "source": [
    "Inferences;\n",
    "\n",
    "1.No true negative predictions: There are none probable case) and predicted correctl\n",
    "\n",
    "2.No false negative predictions: These are the ones wrongly predicted as probable cases.\n",
    "\n",
    "3.11581 false positive prediction: There are 11581 observation as a zero that was wrongly predicted as confirmed cases.\n",
    "\n",
    "4.104954 true positive predictions: The last 104954 observations are ones predicted correctly."
   ]
  },
  {
   "cell_type": "code",
   "execution_count": 74,
   "id": "c5c35090",
   "metadata": {},
   "outputs": [
    {
     "data": {
      "image/png": "[encoded data removed]",
      "text/plain": [
       "<Figure size 576x576 with 1 Axes>"
      ]
     },
     "metadata": {
      "needs_background": "light"
     },
     "output_type": "display_data"
    },
    {
     "data": {
      "text/plain": [
       "<Figure size 432x288 with 0 Axes>"
      ]
     },
     "metadata": {},
     "output_type": "display_data"
    }
   ],
   "source": [
    "cm = confusion_matrix(y, model.predict(X))\n",
    "\n",
    "fig, ax = plt.subplots(figsize=(8, 8))\n",
    "ax.imshow(cm)\n",
    "ax.grid(False)\n",
    "ax.xaxis.set(ticks=(0, 1), ticklabels=('Predicted 0s', 'Predicted 1s'))\n",
    "ax.yaxis.set(ticks=(0, 1), ticklabels=('Actual 0s', 'Actual 1s'))\n",
    "ax.set_ylim(1.5, -0.5)\n",
    "for i in range(2):\n",
    "    for j in range(2):\n",
    "        ax.text(j, i, cm[i, j], ha='center', va='center', color='red')\n",
    "plt.show()\n",
    "plt.savefig(\"Confusion_Matrix\")"
   ]
  },
  {
   "cell_type": "markdown",
   "id": "c6adda4e",
   "metadata": {},
   "source": [
    "### Correlation Plot  "
   ]
  },
  {
   "cell_type": "code",
   "execution_count": 75,
   "id": "188e0031",
   "metadata": {},
   "outputs": [
    {
     "data": {
      "image/png": "[encoded data removed]",
      "text/plain": [
       "<Figure size 432x288 with 2 Axes>"
      ]
     },
     "metadata": {
      "needs_background": "light"
     },
     "output_type": "display_data"
    }
   ],
   "source": [
    "corr = data.corr() \n",
    "ax = sns.heatmap(\n",
    "    corr, \n",
    "    vmin=-1, vmax=1, center=0,\n",
    "    cmap=sns.diverging_palette(10, 220, n=200),\n",
    "    square=True\n",
    ")\n",
    "ax.set_xticklabels(\n",
    "    ax.get_xticklabels(),\n",
    "    rotation=45,\n",
    "    horizontalalignment='right'\n",
    ");\n",
    "plt.savefig(\"Correlation_graph\")"
   ]
  },
  {
   "cell_type": "markdown",
   "id": "92e0db5e",
   "metadata": {},
   "source": [
    "Inference; \n",
    "There is a negative correlation noticed between county_fips_code and current_status.\n",
    "Also between race and county_fips_code"
   ]
  },
  {
   "cell_type": "markdown",
   "id": "2256ee05",
   "metadata": {},
   "source": [
    "# Multiple"
   ]
  },
  {
   "cell_type": "code",
   "execution_count": 27,
   "id": "01e539c2",
   "metadata": {},
   "outputs": [],
   "source": [
    "from sklearn.model_selection import train_test_split"
   ]
  },
  {
   "cell_type": "code",
   "execution_count": 79,
   "id": "8013768d",
   "metadata": {},
   "outputs": [
    {
     "name": "stdout",
     "output_type": "stream",
     "text": [
      "                  case_month  state_fips_code  county_fips_code  age_group  \\\n",
      "case_month              1.00              0.0              0.08       0.03   \n",
      "state_fips_code         0.00              1.0              0.00       0.00   \n",
      "county_fips_code        0.08              0.0              1.00      -0.01   \n",
      "age_group               0.03              0.0             -0.01       1.00   \n",
      "sex                     0.00              0.0             -0.01      -0.00   \n",
      "race                    0.04             -0.0             -0.04       0.02   \n",
      "current_status         -0.21             -0.0             -0.08      -0.02   \n",
      "\n",
      "                   sex  race  current_status  \n",
      "case_month        0.00  0.04           -0.21  \n",
      "state_fips_code   0.00 -0.00           -0.00  \n",
      "county_fips_code -0.01 -0.04           -0.08  \n",
      "age_group        -0.00  0.02           -0.02  \n",
      "sex               1.00  0.01            0.02  \n",
      "race              0.01  1.00           -0.02  \n",
      "current_status    0.02 -0.02            1.00  \n",
      "                            OLS Regression Results                            \n",
      "==============================================================================\n",
      "Dep. Variable:         current_status   R-squared:                       0.035\n",
      "Model:                            OLS   Adj. R-squared:                  0.035\n",
      "Method:                 Least Squares   F-statistic:                     562.8\n",
      "Date:                Tue, 21 Dec 2021   Prob (F-statistic):               0.00\n",
      "Time:                        16:31:35   Log-Likelihood:                -18236.\n",
      "No. Observations:               93228   AIC:                         3.649e+04\n",
      "Df Residuals:                   93221   BIC:                         3.655e+04\n",
      "Df Model:                           6                                         \n",
      "Covariance Type:            nonrobust                                         \n",
      "====================================================================================\n",
      "                       coef    std err          t      P>|t|      [0.025      0.975]\n",
      "------------------------------------------------------------------------------------\n",
      "const              245.5132      4.483     54.771      0.000     236.727     254.299\n",
      "case_month          -0.0012   2.22e-05    -53.454      0.000      -0.001      -0.001\n",
      "state_fips_code      0.0042      0.006      0.723      0.470      -0.007       0.016\n",
      "county_fips_code    -0.0003   1.61e-05    -18.088      0.000      -0.000      -0.000\n",
      "age_group           -0.0034      0.001     -3.136      0.002      -0.006      -0.001\n",
      "sex                  0.0145      0.002      7.806      0.000       0.011       0.018\n",
      "race                 0.0067      0.001      8.027      0.000       0.005       0.008\n",
      "==============================================================================\n",
      "Omnibus:                    45357.593   Durbin-Watson:                   1.999\n",
      "Prob(Omnibus):                  0.000   Jarque-Bera (JB):           189391.973\n",
      "Skew:                          -2.532   Prob(JB):                         0.00\n",
      "Kurtosis:                       7.808   Cond. No.                     9.43e+08\n",
      "==============================================================================\n",
      "\n",
      "Notes:\n",
      "[1] Standard Errors assume that the covariance matrix of the errors is correctly specified.\n",
      "[2] The condition number is large, 9.43e+08. This might indicate that there are\n",
      "strong multicollinearity or other numerical problems.\n"
     ]
    },
    {
     "data": {
      "image/png": "[encoded data removed]",
      "text/plain": [
       "<Figure size 432x288 with 2 Axes>"
      ]
     },
     "metadata": {
      "needs_background": "light"
     },
     "output_type": "display_data"
    }
   ],
   "source": [
    "import statsmodels.api as sm\n",
    "\n",
    "print(data_split.corr(method = \"spearman\").round(2))\n",
    "correlation = data_split.corr(method = \"spearman\")\n",
    "mask_data = np.zeros_like(correlation)\n",
    "mask_data[np.triu_indices_from(mask_data)] = True\n",
    "sns.heatmap(correlation, cmap='Spectral_r', mask=mask_data, square=True, vmin=-1, vmax=1)\n",
    "plt.title('Correlation matrix')\n",
    "\n",
    "#Create the dataframes for X and Y\n",
    "X = data_split.loc[:, data_split.columns != 'current_status']\n",
    "y = data_split.loc[:, data_split.columns == 'current_status']\n",
    "\n",
    "X_train, X_test, Y_train, Y_test = train_test_split(X, y, test_size = 0.20, random_state = 5)\n",
    "\n",
    "linear_model = sm.OLS(Y_train, sm.add_constant(X_train)).fit()\n",
    "Y_pred = linear_model.predict(sm.add_constant(X_test))\n",
    "print_model = linear_model.summary()\n",
    "print(print_model)\n"
   ]
  },
  {
   "cell_type": "code",
   "execution_count": 77,
   "id": "6411d7d3",
   "metadata": {},
   "outputs": [
    {
     "name": "stdout",
     "output_type": "stream",
     "text": [
      "Requirement already satisfied: statsmodels in c:\\users\\hp\\anaconda3\\lib\\site-packages (0.12.2)\n",
      "Requirement already satisfied: numpy>=1.15 in c:\\users\\hp\\anaconda3\\lib\\site-packages (from statsmodels) (1.20.1)\n",
      "Requirement already satisfied: scipy>=1.1 in c:\\users\\hp\\anaconda3\\lib\\site-packages (from statsmodels) (1.6.2)\n",
      "Requirement already satisfied: pandas>=0.21 in c:\\users\\hp\\anaconda3\\lib\\site-packages (from statsmodels) (1.2.4)\n",
      "Requirement already satisfied: patsy>=0.5 in c:\\users\\hp\\anaconda3\\lib\\site-packages (from statsmodels) (0.5.1)\n",
      "Requirement already satisfied: pytz>=2017.3 in c:\\users\\hp\\anaconda3\\lib\\site-packages (from pandas>=0.21->statsmodels) (2021.1)\n",
      "Requirement already satisfied: python-dateutil>=2.7.3 in c:\\users\\hp\\anaconda3\\lib\\site-packages (from pandas>=0.21->statsmodels) (2.8.1)\n",
      "Requirement already satisfied: six in c:\\users\\hp\\anaconda3\\lib\\site-packages (from patsy>=0.5->statsmodels) (1.15.0)\n",
      "Note: you may need to restart the kernel to use updated packages.\n"
     ]
    }
   ],
   "source": [
    "pip install statsmodels"
   ]
  },
  {
   "cell_type": "code",
   "execution_count": 81,
   "id": "b03ad30d",
   "metadata": {},
   "outputs": [
    {
     "name": "stdout",
     "output_type": "stream",
     "text": [
      "   VIF Factor          features\n",
      "0  21633821.7             const\n",
      "1         1.0        case_month\n",
      "2         1.0   state_fips_code\n",
      "3         1.0  county_fips_code\n",
      "4         1.0         age_group\n",
      "5         1.0               sex\n",
      "6         1.0              race\n"
     ]
    }
   ],
   "source": [
    "from statsmodels.stats.outliers_influence import variance_inflation_factor\n",
    "\n",
    "#VIF factor\n",
    "x_temp_old = sm.add_constant(X_train)\n",
    "vif = pd.DataFrame()\n",
    "vif[\"VIF Factor\"] = [variance_inflation_factor(x_temp_old.values, i) for i in range(x_temp_old.values.shape[1])]\n",
    "vif[\"features\"] = x_temp_old.columns\n",
    "print(vif.round(1))"
   ]
  },
  {
   "cell_type": "markdown",
   "id": "b3f3895f",
   "metadata": {},
   "source": [
    "no variable has VIF more than 1 and so it is alright if we do not get rid of any variable, which we are currently using"
   ]
  },
  {
   "cell_type": "markdown",
   "id": "d631cda0",
   "metadata": {},
   "source": [
    "This Multiple linear Regression has an R^2 Value of 0.035 i.e the goodness-of-fit measure for linear regression models. The percentage of the variance in the dependent variable that the independent variables explain collectively."
   ]
  },
  {
   "cell_type": "markdown",
   "id": "4db22097",
   "metadata": {},
   "source": [
    "This value is relativeky low in comparision to Logistic Regression; "
   ]
  },
  {
   "cell_type": "code",
   "execution_count": 86,
   "id": "733e4852",
   "metadata": {},
   "outputs": [
    {
     "data": {
      "image/png": "[encoded data removed]",
      "text/plain": [
       "<Figure size 720x720 with 1 Axes>"
      ]
     },
     "metadata": {},
     "output_type": "display_data"
    },
    {
     "data": {
      "text/plain": [
       "<Figure size 720x720 with 0 Axes>"
      ]
     },
     "metadata": {},
     "output_type": "display_data"
    }
   ],
   "source": [
    "plt.rc('figure', figsize=(10,10))\n",
    "plt.style.use('ggplot')\n",
    "\n",
    "probplot = sm.ProbPlot(linear_model.get_influence().resid_studentized_internal, fit=True)\n",
    "fig = probplot.qqplot(line='45', marker='o', color='black')\n",
    "plt.title('Normal Q-Q', fontsize=20)\n",
    "plt.show()\n",
    "plt.savefig(\"Q-Q Plot\")"
   ]
  },
  {
   "cell_type": "code",
   "execution_count": null,
   "id": "7df9098f",
   "metadata": {},
   "outputs": [],
   "source": []
  }
 ],
 "metadata": {
  "kernelspec": {
   "display_name": "Python 3",
   "language": "python",
   "name": "python3"
  },
  "language_info": {
   "codemirror_mode": {
    "name": "ipython",
    "version": 3
   },
   "file_extension": ".py",
   "mimetype": "text/x-python",
   "name": "python",
   "nbconvert_exporter": "python",
   "pygments_lexer": "ipython3",
   "version": "3.8.8"
  }
 },
 "nbformat": 4,
 "nbformat_minor": 5
}
