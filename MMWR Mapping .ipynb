{
 "cells": [
  {
   "cell_type": "markdown",
   "id": "e55ec8c3",
   "metadata": {},
   "source": [
    "Changing the MMWR dataset"
   ]
  },
  {
   "cell_type": "code",
   "execution_count": 12,
   "id": "979112aa",
   "metadata": {},
   "outputs": [],
   "source": [
    "#Loading MMWR 2020\n",
    "\n",
    "import pandas as pd"
   ]
  },
  {
   "cell_type": "code",
   "execution_count": 13,
   "id": "5c4d5883",
   "metadata": {},
   "outputs": [],
   "source": [
    "data = pd.read_csv(\"MMWR_2020.csv\")"
   ]
  },
  {
   "cell_type": "code",
   "execution_count": 14,
   "id": "6ed1a42c",
   "metadata": {},
   "outputs": [
    {
     "data": {
      "text/plain": [
       "MMWR     int64\n",
       "2020    object\n",
       "dtype: object"
      ]
     },
     "execution_count": 14,
     "metadata": {},
     "output_type": "execute_result"
    }
   ],
   "source": [
    "data.dtypes"
   ]
  },
  {
   "cell_type": "code",
   "execution_count": null,
   "id": "28043369",
   "metadata": {},
   "outputs": [],
   "source": []
  },
  {
   "cell_type": "code",
   "execution_count": 16,
   "id": "f1f43f8a",
   "metadata": {},
   "outputs": [],
   "source": [
    "data[\"2020\"] = pd.to_datetime(data[\"2020\"])"
   ]
  },
  {
   "cell_type": "code",
   "execution_count": 18,
   "id": "cc517ec5",
   "metadata": {},
   "outputs": [
    {
     "data": {
      "text/plain": [
       "MMWR             int64\n",
       "2020    datetime64[ns]\n",
       "dtype: object"
      ]
     },
     "execution_count": 18,
     "metadata": {},
     "output_type": "execute_result"
    }
   ],
   "source": [
    "data.dtypes"
   ]
  },
  {
   "cell_type": "code",
   "execution_count": 20,
   "id": "f706a626",
   "metadata": {},
   "outputs": [
    {
     "data": {
      "text/html": [
       "<div>\n",
       "<style scoped>\n",
       "    .dataframe tbody tr th:only-of-type {\n",
       "        vertical-align: middle;\n",
       "    }\n",
       "\n",
       "    .dataframe tbody tr th {\n",
       "        vertical-align: top;\n",
       "    }\n",
       "\n",
       "    .dataframe thead th {\n",
       "        text-align: right;\n",
       "    }\n",
       "</style>\n",
       "<table border=\"1\" class=\"dataframe\">\n",
       "  <thead>\n",
       "    <tr style=\"text-align: right;\">\n",
       "      <th></th>\n",
       "      <th>MMWR</th>\n",
       "      <th>2020</th>\n",
       "    </tr>\n",
       "  </thead>\n",
       "  <tbody>\n",
       "    <tr>\n",
       "      <th>0</th>\n",
       "      <td>1</td>\n",
       "      <td>2020-01-04</td>\n",
       "    </tr>\n",
       "    <tr>\n",
       "      <th>1</th>\n",
       "      <td>2</td>\n",
       "      <td>2020-01-11</td>\n",
       "    </tr>\n",
       "    <tr>\n",
       "      <th>2</th>\n",
       "      <td>3</td>\n",
       "      <td>2020-01-18</td>\n",
       "    </tr>\n",
       "    <tr>\n",
       "      <th>3</th>\n",
       "      <td>4</td>\n",
       "      <td>2020-01-25</td>\n",
       "    </tr>\n",
       "    <tr>\n",
       "      <th>4</th>\n",
       "      <td>5</td>\n",
       "      <td>2020-02-01</td>\n",
       "    </tr>\n",
       "    <tr>\n",
       "      <th>5</th>\n",
       "      <td>6</td>\n",
       "      <td>2020-02-08</td>\n",
       "    </tr>\n",
       "    <tr>\n",
       "      <th>6</th>\n",
       "      <td>7</td>\n",
       "      <td>2020-02-15</td>\n",
       "    </tr>\n",
       "    <tr>\n",
       "      <th>7</th>\n",
       "      <td>8</td>\n",
       "      <td>2020-02-22</td>\n",
       "    </tr>\n",
       "    <tr>\n",
       "      <th>8</th>\n",
       "      <td>9</td>\n",
       "      <td>2020-02-29</td>\n",
       "    </tr>\n",
       "    <tr>\n",
       "      <th>9</th>\n",
       "      <td>10</td>\n",
       "      <td>2020-03-07</td>\n",
       "    </tr>\n",
       "    <tr>\n",
       "      <th>10</th>\n",
       "      <td>11</td>\n",
       "      <td>2020-03-14</td>\n",
       "    </tr>\n",
       "    <tr>\n",
       "      <th>11</th>\n",
       "      <td>12</td>\n",
       "      <td>2020-03-21</td>\n",
       "    </tr>\n",
       "    <tr>\n",
       "      <th>12</th>\n",
       "      <td>13</td>\n",
       "      <td>2020-03-28</td>\n",
       "    </tr>\n",
       "    <tr>\n",
       "      <th>13</th>\n",
       "      <td>14</td>\n",
       "      <td>2020-04-04</td>\n",
       "    </tr>\n",
       "    <tr>\n",
       "      <th>14</th>\n",
       "      <td>15</td>\n",
       "      <td>2020-04-11</td>\n",
       "    </tr>\n",
       "    <tr>\n",
       "      <th>15</th>\n",
       "      <td>16</td>\n",
       "      <td>2020-04-18</td>\n",
       "    </tr>\n",
       "    <tr>\n",
       "      <th>16</th>\n",
       "      <td>17</td>\n",
       "      <td>2020-04-25</td>\n",
       "    </tr>\n",
       "    <tr>\n",
       "      <th>17</th>\n",
       "      <td>18</td>\n",
       "      <td>2020-05-02</td>\n",
       "    </tr>\n",
       "    <tr>\n",
       "      <th>18</th>\n",
       "      <td>19</td>\n",
       "      <td>2020-05-09</td>\n",
       "    </tr>\n",
       "    <tr>\n",
       "      <th>19</th>\n",
       "      <td>20</td>\n",
       "      <td>2020-05-16</td>\n",
       "    </tr>\n",
       "    <tr>\n",
       "      <th>20</th>\n",
       "      <td>21</td>\n",
       "      <td>2020-05-23</td>\n",
       "    </tr>\n",
       "    <tr>\n",
       "      <th>21</th>\n",
       "      <td>22</td>\n",
       "      <td>2020-05-30</td>\n",
       "    </tr>\n",
       "    <tr>\n",
       "      <th>22</th>\n",
       "      <td>23</td>\n",
       "      <td>2020-06-06</td>\n",
       "    </tr>\n",
       "    <tr>\n",
       "      <th>23</th>\n",
       "      <td>24</td>\n",
       "      <td>2020-06-13</td>\n",
       "    </tr>\n",
       "    <tr>\n",
       "      <th>24</th>\n",
       "      <td>25</td>\n",
       "      <td>2020-06-20</td>\n",
       "    </tr>\n",
       "    <tr>\n",
       "      <th>25</th>\n",
       "      <td>26</td>\n",
       "      <td>2020-06-27</td>\n",
       "    </tr>\n",
       "    <tr>\n",
       "      <th>26</th>\n",
       "      <td>27</td>\n",
       "      <td>2020-07-04</td>\n",
       "    </tr>\n",
       "    <tr>\n",
       "      <th>27</th>\n",
       "      <td>28</td>\n",
       "      <td>2020-07-11</td>\n",
       "    </tr>\n",
       "    <tr>\n",
       "      <th>28</th>\n",
       "      <td>29</td>\n",
       "      <td>2020-07-18</td>\n",
       "    </tr>\n",
       "    <tr>\n",
       "      <th>29</th>\n",
       "      <td>30</td>\n",
       "      <td>2020-07-25</td>\n",
       "    </tr>\n",
       "    <tr>\n",
       "      <th>30</th>\n",
       "      <td>31</td>\n",
       "      <td>2020-08-01</td>\n",
       "    </tr>\n",
       "    <tr>\n",
       "      <th>31</th>\n",
       "      <td>32</td>\n",
       "      <td>2020-08-08</td>\n",
       "    </tr>\n",
       "    <tr>\n",
       "      <th>32</th>\n",
       "      <td>33</td>\n",
       "      <td>2020-08-15</td>\n",
       "    </tr>\n",
       "    <tr>\n",
       "      <th>33</th>\n",
       "      <td>34</td>\n",
       "      <td>2020-08-22</td>\n",
       "    </tr>\n",
       "    <tr>\n",
       "      <th>34</th>\n",
       "      <td>35</td>\n",
       "      <td>2020-08-29</td>\n",
       "    </tr>\n",
       "    <tr>\n",
       "      <th>35</th>\n",
       "      <td>36</td>\n",
       "      <td>2020-09-05</td>\n",
       "    </tr>\n",
       "    <tr>\n",
       "      <th>36</th>\n",
       "      <td>37</td>\n",
       "      <td>2020-09-12</td>\n",
       "    </tr>\n",
       "    <tr>\n",
       "      <th>37</th>\n",
       "      <td>38</td>\n",
       "      <td>2020-09-19</td>\n",
       "    </tr>\n",
       "    <tr>\n",
       "      <th>38</th>\n",
       "      <td>39</td>\n",
       "      <td>2020-09-26</td>\n",
       "    </tr>\n",
       "    <tr>\n",
       "      <th>39</th>\n",
       "      <td>40</td>\n",
       "      <td>2020-10-03</td>\n",
       "    </tr>\n",
       "    <tr>\n",
       "      <th>40</th>\n",
       "      <td>41</td>\n",
       "      <td>2020-10-10</td>\n",
       "    </tr>\n",
       "    <tr>\n",
       "      <th>41</th>\n",
       "      <td>42</td>\n",
       "      <td>2020-10-17</td>\n",
       "    </tr>\n",
       "    <tr>\n",
       "      <th>42</th>\n",
       "      <td>43</td>\n",
       "      <td>2020-10-24</td>\n",
       "    </tr>\n",
       "    <tr>\n",
       "      <th>43</th>\n",
       "      <td>44</td>\n",
       "      <td>2020-10-31</td>\n",
       "    </tr>\n",
       "    <tr>\n",
       "      <th>44</th>\n",
       "      <td>45</td>\n",
       "      <td>2020-11-07</td>\n",
       "    </tr>\n",
       "    <tr>\n",
       "      <th>45</th>\n",
       "      <td>46</td>\n",
       "      <td>2020-11-14</td>\n",
       "    </tr>\n",
       "    <tr>\n",
       "      <th>46</th>\n",
       "      <td>47</td>\n",
       "      <td>2020-11-21</td>\n",
       "    </tr>\n",
       "    <tr>\n",
       "      <th>47</th>\n",
       "      <td>48</td>\n",
       "      <td>2020-11-28</td>\n",
       "    </tr>\n",
       "    <tr>\n",
       "      <th>48</th>\n",
       "      <td>49</td>\n",
       "      <td>2020-12-05</td>\n",
       "    </tr>\n",
       "    <tr>\n",
       "      <th>49</th>\n",
       "      <td>50</td>\n",
       "      <td>2020-12-12</td>\n",
       "    </tr>\n",
       "    <tr>\n",
       "      <th>50</th>\n",
       "      <td>51</td>\n",
       "      <td>2020-12-19</td>\n",
       "    </tr>\n",
       "    <tr>\n",
       "      <th>51</th>\n",
       "      <td>52</td>\n",
       "      <td>2020-12-26</td>\n",
       "    </tr>\n",
       "    <tr>\n",
       "      <th>52</th>\n",
       "      <td>53</td>\n",
       "      <td>2021-01-02</td>\n",
       "    </tr>\n",
       "  </tbody>\n",
       "</table>\n",
       "</div>"
      ],
      "text/plain": [
       "    MMWR       2020\n",
       "0      1 2020-01-04\n",
       "1      2 2020-01-11\n",
       "2      3 2020-01-18\n",
       "3      4 2020-01-25\n",
       "4      5 2020-02-01\n",
       "5      6 2020-02-08\n",
       "6      7 2020-02-15\n",
       "7      8 2020-02-22\n",
       "8      9 2020-02-29\n",
       "9     10 2020-03-07\n",
       "10    11 2020-03-14\n",
       "11    12 2020-03-21\n",
       "12    13 2020-03-28\n",
       "13    14 2020-04-04\n",
       "14    15 2020-04-11\n",
       "15    16 2020-04-18\n",
       "16    17 2020-04-25\n",
       "17    18 2020-05-02\n",
       "18    19 2020-05-09\n",
       "19    20 2020-05-16\n",
       "20    21 2020-05-23\n",
       "21    22 2020-05-30\n",
       "22    23 2020-06-06\n",
       "23    24 2020-06-13\n",
       "24    25 2020-06-20\n",
       "25    26 2020-06-27\n",
       "26    27 2020-07-04\n",
       "27    28 2020-07-11\n",
       "28    29 2020-07-18\n",
       "29    30 2020-07-25\n",
       "30    31 2020-08-01\n",
       "31    32 2020-08-08\n",
       "32    33 2020-08-15\n",
       "33    34 2020-08-22\n",
       "34    35 2020-08-29\n",
       "35    36 2020-09-05\n",
       "36    37 2020-09-12\n",
       "37    38 2020-09-19\n",
       "38    39 2020-09-26\n",
       "39    40 2020-10-03\n",
       "40    41 2020-10-10\n",
       "41    42 2020-10-17\n",
       "42    43 2020-10-24\n",
       "43    44 2020-10-31\n",
       "44    45 2020-11-07\n",
       "45    46 2020-11-14\n",
       "46    47 2020-11-21\n",
       "47    48 2020-11-28\n",
       "48    49 2020-12-05\n",
       "49    50 2020-12-12\n",
       "50    51 2020-12-19\n",
       "51    52 2020-12-26\n",
       "52    53 2021-01-02"
      ]
     },
     "execution_count": 20,
     "metadata": {},
     "output_type": "execute_result"
    }
   ],
   "source": [
    "data"
   ]
  },
  {
   "cell_type": "code",
   "execution_count": null,
   "id": "073df53d",
   "metadata": {},
   "outputs": [],
   "source": []
  },
  {
   "cell_type": "code",
   "execution_count": 21,
   "id": "d1af8ca0",
   "metadata": {},
   "outputs": [],
   "source": [
    "data[\"MMWR\"] = data[\"MMWR\"] + 1"
   ]
  },
  {
   "cell_type": "code",
   "execution_count": 23,
   "id": "894feff5",
   "metadata": {},
   "outputs": [],
   "source": [
    "import datetime as dt"
   ]
  },
  {
   "cell_type": "code",
   "execution_count": 24,
   "id": "fbf7ce35",
   "metadata": {},
   "outputs": [],
   "source": [
    "data['2020'] = data[\"2020\"] + dt.timedelta(days=1)\n"
   ]
  },
  {
   "cell_type": "code",
   "execution_count": 26,
   "id": "1fe0b0ed",
   "metadata": {},
   "outputs": [],
   "source": [
    "data.to_csv(\"MMWR_2020.csv\") #Processed MMWR_2020"
   ]
  },
  {
   "cell_type": "markdown",
   "id": "709d38d0",
   "metadata": {},
   "source": [
    "##### Changing Date for 2021 - MMWR"
   ]
  },
  {
   "cell_type": "code",
   "execution_count": 29,
   "id": "44176518",
   "metadata": {},
   "outputs": [],
   "source": [
    "data2 = pd.read_csv(\"MMWR_2021.csv\")"
   ]
  },
  {
   "cell_type": "code",
   "execution_count": 31,
   "id": "2776b9c5",
   "metadata": {},
   "outputs": [
    {
     "data": {
      "text/plain": [
       "MMWR     int64\n",
       "2021    object\n",
       "dtype: object"
      ]
     },
     "execution_count": 31,
     "metadata": {},
     "output_type": "execute_result"
    }
   ],
   "source": [
    "data2.dtypes"
   ]
  },
  {
   "cell_type": "code",
   "execution_count": 33,
   "id": "622c0648",
   "metadata": {},
   "outputs": [],
   "source": [
    "data2[\"2021\"] = pd.to_datetime(data2[\"2021\"])"
   ]
  },
  {
   "cell_type": "code",
   "execution_count": 34,
   "id": "ac620c01",
   "metadata": {},
   "outputs": [
    {
     "data": {
      "text/plain": [
       "MMWR             int64\n",
       "2021    datetime64[ns]\n",
       "dtype: object"
      ]
     },
     "execution_count": 34,
     "metadata": {},
     "output_type": "execute_result"
    }
   ],
   "source": [
    "data2.dtypes"
   ]
  },
  {
   "cell_type": "code",
   "execution_count": 35,
   "id": "e08ba6d7",
   "metadata": {},
   "outputs": [],
   "source": [
    "data2[\"MMWR\"] = data2[\"MMWR\"] + 1\n",
    "\n",
    "\n",
    "data2['2021'] = data2[\"2021\"] + dt.timedelta(days=1)\n"
   ]
  },
  {
   "cell_type": "code",
   "execution_count": 37,
   "id": "6c8977d0",
   "metadata": {},
   "outputs": [],
   "source": [
    "data2.to_csv(\"MMWR_2021.csv\")"
   ]
  },
  {
   "cell_type": "code",
   "execution_count": 38,
   "id": "fde5cd83",
   "metadata": {},
   "outputs": [],
   "source": [
    "df = pd.read_csv(\"MMWR_2021.csv\")"
   ]
  },
  {
   "cell_type": "code",
   "execution_count": null,
   "id": "47d3e284",
   "metadata": {},
   "outputs": [],
   "source": []
  },
  {
   "cell_type": "code",
   "execution_count": null,
   "id": "d0d3b9f0",
   "metadata": {},
   "outputs": [],
   "source": []
  }
 ],
 "metadata": {
  "kernelspec": {
   "display_name": "Python 3",
   "language": "python",
   "name": "python3"
  },
  "language_info": {
   "codemirror_mode": {
    "name": "ipython",
    "version": 3
   },
   "file_extension": ".py",
   "mimetype": "text/x-python",
   "name": "python",
   "nbconvert_exporter": "python",
   "pygments_lexer": "ipython3",
   "version": "3.8.8"
  }
 },
 "nbformat": 4,
 "nbformat_minor": 5
}
